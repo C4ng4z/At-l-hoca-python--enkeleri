{
 "cells": [
  {
   "cell_type": "code",
   "execution_count": 1,
   "id": "dfa0b331-6b2c-4941-9c2f-0c7b23e95e17",
   "metadata": {},
   "outputs": [
    {
     "data": {
      "text/plain": [
       "True"
      ]
     },
     "execution_count": 1,
     "metadata": {},
     "output_type": "execute_result"
    }
   ],
   "source": [
    "True"
   ]
  },
  {
   "cell_type": "code",
   "execution_count": 2,
   "id": "e5022834-995c-4359-8adb-fa182309172d",
   "metadata": {},
   "outputs": [
    {
     "data": {
      "text/plain": [
       "False"
      ]
     },
     "execution_count": 2,
     "metadata": {},
     "output_type": "execute_result"
    }
   ],
   "source": [
    "False"
   ]
  },
  {
   "cell_type": "markdown",
   "id": "a8ad87e6-af0a-4a86-b0eb-c0d5dbadec7a",
   "metadata": {},
   "source": [
    "Boolean dogru veya yanlış cwvabı veren operatör"
   ]
  },
  {
   "cell_type": "code",
   "execution_count": 3,
   "id": "7c9edad2-eeb0-4854-a026-f6173b8a7216",
   "metadata": {},
   "outputs": [],
   "source": [
    "my_boolean = True"
   ]
  },
  {
   "cell_type": "code",
   "execution_count": 4,
   "id": "1d067620-98ba-4593-a636-39f5a568e3ef",
   "metadata": {},
   "outputs": [
    {
     "data": {
      "text/plain": [
       "True"
      ]
     },
     "execution_count": 4,
     "metadata": {},
     "output_type": "execute_result"
    }
   ],
   "source": [
    "5 > 3"
   ]
  },
  {
   "cell_type": "code",
   "execution_count": 5,
   "id": "96175428-0fda-4164-9fb5-c78c213c085e",
   "metadata": {},
   "outputs": [
    {
     "data": {
      "text/plain": [
       "8"
      ]
     },
     "execution_count": 5,
     "metadata": {},
     "output_type": "execute_result"
    }
   ],
   "source": [
    " 3+5"
   ]
  },
  {
   "cell_type": "code",
   "execution_count": 8,
   "id": "2dff4199-170e-4d6e-b2a8-ea289acb163c",
   "metadata": {},
   "outputs": [
    {
     "data": {
      "text/plain": [
       "False"
      ]
     },
     "execution_count": 8,
     "metadata": {},
     "output_type": "execute_result"
    }
   ],
   "source": [
    "3 > 5"
   ]
  },
  {
   "cell_type": "code",
   "execution_count": 9,
   "id": "2cde6a23-f344-4536-8272-375bebe918f2",
   "metadata": {},
   "outputs": [],
   "source": [
    "x = 5"
   ]
  },
  {
   "cell_type": "code",
   "execution_count": 10,
   "id": "1e194444-9973-4923-a0c4-6e8c14ad917a",
   "metadata": {},
   "outputs": [
    {
     "name": "stdin",
     "output_type": "stream",
     "text": [
      "y:  6\n"
     ]
    }
   ],
   "source": [
    "y = input(\"y: \")"
   ]
  },
  {
   "cell_type": "code",
   "execution_count": 11,
   "id": "d44218ec-e8d9-4c02-90b8-0b8bf14ad07b",
   "metadata": {},
   "outputs": [
    {
     "data": {
      "text/plain": [
       "str"
      ]
     },
     "execution_count": 11,
     "metadata": {},
     "output_type": "execute_result"
    }
   ],
   "source": [
    "type(y)"
   ]
  },
  {
   "cell_type": "code",
   "execution_count": 12,
   "id": "8c901637-c706-44d8-aed6-ee161374ac67",
   "metadata": {},
   "outputs": [],
   "source": [
    "y_int = int(y)"
   ]
  },
  {
   "cell_type": "code",
   "execution_count": 13,
   "id": "dda26e5d-720c-4c58-acd6-84815fd843aa",
   "metadata": {},
   "outputs": [
    {
     "data": {
      "text/plain": [
       "int"
      ]
     },
     "execution_count": 13,
     "metadata": {},
     "output_type": "execute_result"
    }
   ],
   "source": [
    "type(y_int)"
   ]
  },
  {
   "cell_type": "code",
   "execution_count": 14,
   "id": "a9ba514d-c59b-47ba-b39e-1496017b67d0",
   "metadata": {},
   "outputs": [
    {
     "data": {
      "text/plain": [
       "6"
      ]
     },
     "execution_count": 14,
     "metadata": {},
     "output_type": "execute_result"
    }
   ],
   "source": [
    "y_int"
   ]
  },
  {
   "cell_type": "code",
   "execution_count": 15,
   "id": "cb846343-3420-4404-ba79-b0982bbded67",
   "metadata": {},
   "outputs": [
    {
     "data": {
      "text/plain": [
       "True"
      ]
     },
     "execution_count": 15,
     "metadata": {},
     "output_type": "execute_result"
    }
   ],
   "source": [
    "y_int > x"
   ]
  },
  {
   "cell_type": "code",
   "execution_count": null,
   "id": "f06c7952-1fb3-4064-8edc-dd333154ba1e",
   "metadata": {},
   "outputs": [],
   "source": []
  }
 ],
 "metadata": {
  "kernelspec": {
   "display_name": "Python 3 (ipykernel)",
   "language": "python",
   "name": "python3"
  },
  "language_info": {
   "codemirror_mode": {
    "name": "ipython",
    "version": 3
   },
   "file_extension": ".py",
   "mimetype": "text/x-python",
   "name": "python",
   "nbconvert_exporter": "python",
   "pygments_lexer": "ipython3",
   "version": "3.12.4"
  }
 },
 "nbformat": 4,
 "nbformat_minor": 5
}
