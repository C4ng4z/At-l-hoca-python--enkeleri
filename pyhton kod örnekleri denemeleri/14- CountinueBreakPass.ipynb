{
 "cells": [
  {
   "cell_type": "code",
   "execution_count": 1,
   "id": "5a4a198a-b6eb-417b-b60a-744eb9260aad",
   "metadata": {},
   "outputs": [],
   "source": [
    "my_list = [10,20,30,40,50,60]"
   ]
  },
  {
   "cell_type": "code",
   "execution_count": 2,
   "id": "80d5a1f5-c4f3-4b4f-880c-051767ffa753",
   "metadata": {},
   "outputs": [
    {
     "name": "stdout",
     "output_type": "stream",
     "text": [
      "50\n",
      "100\n",
      "150\n",
      "200\n",
      "250\n",
      "300\n"
     ]
    }
   ],
   "source": [
    "for number in my_list:\n",
    "    print(number * 5)"
   ]
  },
  {
   "cell_type": "code",
   "execution_count": 3,
   "id": "f39648bf-4f53-4ec0-8412-035992d852f5",
   "metadata": {},
   "outputs": [
    {
     "name": "stdout",
     "output_type": "stream",
     "text": [
      "50\n",
      "100\n"
     ]
    }
   ],
   "source": [
    "for num in my_list:\n",
    "    if num == 30:\n",
    "        break\n",
    "    print(num * 5)"
   ]
  },
  {
   "cell_type": "code",
   "execution_count": 12,
   "id": "750f8549-f36b-4175-bf28-a22aafc52620",
   "metadata": {},
   "outputs": [
    {
     "name": "stdout",
     "output_type": "stream",
     "text": [
      "50\n",
      "100\n",
      "200\n",
      "250\n",
      "300\n"
     ]
    }
   ],
   "source": [
    "for num in my_list:\n",
    "    if num == 30:\n",
    "       continue\n",
    "    print(num * 5)"
   ]
  },
  {
   "cell_type": "code",
   "execution_count": null,
   "id": "1ab940e2-196b-40d9-bf33-f9c9845b6ad0",
   "metadata": {},
   "outputs": [],
   "source": []
  }
 ],
 "metadata": {
  "kernelspec": {
   "display_name": "Python 3 (ipykernel)",
   "language": "python",
   "name": "python3"
  },
  "language_info": {
   "codemirror_mode": {
    "name": "ipython",
    "version": 3
   },
   "file_extension": ".py",
   "mimetype": "text/x-python",
   "name": "python",
   "nbconvert_exporter": "python",
   "pygments_lexer": "ipython3",
   "version": "3.12.4"
  }
 },
 "nbformat": 4,
 "nbformat_minor": 5
}
