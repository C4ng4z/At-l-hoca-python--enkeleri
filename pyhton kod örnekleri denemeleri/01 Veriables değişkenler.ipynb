{
 "cells": [
  {
   "cell_type": "code",
   "execution_count": 1,
   "id": "5d1f775d-8860-4fb7-85da-31f858e7d99d",
   "metadata": {},
   "outputs": [
    {
     "data": {
      "text/plain": [
       "11"
      ]
     },
     "execution_count": 1,
     "metadata": {},
     "output_type": "execute_result"
    }
   ],
   "source": [
    "5+6\n"
   ]
  },
  {
   "cell_type": "code",
   "execution_count": 10,
   "id": "e195416a-a1df-40f9-8ba2-84cfd6aa1dc5",
   "metadata": {},
   "outputs": [
    {
     "data": {
      "text/plain": [
       "9277"
      ]
     },
     "execution_count": 10,
     "metadata": {},
     "output_type": "execute_result"
    }
   ],
   "source": [
    "1500 +7777"
   ]
  },
  {
   "cell_type": "code",
   "execution_count": 11,
   "id": "7fb004d7-0b04-403a-9603-7065c17781e6",
   "metadata": {},
   "outputs": [
    {
     "data": {
      "text/plain": [
       "99.13705851344228"
      ]
     },
     "execution_count": 11,
     "metadata": {},
     "output_type": "execute_result"
    }
   ],
   "source": [
    "752252 / 7588"
   ]
  },
  {
   "cell_type": "code",
   "execution_count": 12,
   "id": "1adb0f1e-71c0-4812-aafd-e9e3aed466b1",
   "metadata": {},
   "outputs": [
    {
     "data": {
      "text/plain": [
       "45"
      ]
     },
     "execution_count": 12,
     "metadata": {},
     "output_type": "execute_result"
    }
   ],
   "source": [
    " 500 -455\n"
   ]
  },
  {
   "cell_type": "code",
   "execution_count": 13,
   "id": "a5121926-7488-472f-8089-a8e810c34b31",
   "metadata": {},
   "outputs": [
    {
     "data": {
      "text/plain": [
       "8"
      ]
     },
     "execution_count": 13,
     "metadata": {},
     "output_type": "execute_result"
    }
   ],
   "source": [
    "2*2*2\n"
   ]
  },
  {
   "cell_type": "code",
   "execution_count": 14,
   "id": "3ce98507-ce2b-4a32-9377-797fa6b3401e",
   "metadata": {},
   "outputs": [
    {
     "name": "stdout",
     "output_type": "stream",
     "text": [
      "iki yıldız üssü annamına gelir\n"
     ]
    }
   ],
   "source": [
    " 2**2\n",
    "print (\"iki yıldız üssü annamına gelir\")"
   ]
  },
  {
   "cell_type": "code",
   "execution_count": 8,
   "id": "66b6caf1-36f5-4a47-ac25-b5d4da68097a",
   "metadata": {},
   "outputs": [
    {
     "data": {
      "text/plain": [
       "4"
      ]
     },
     "execution_count": 8,
     "metadata": {},
     "output_type": "execute_result"
    }
   ],
   "source": [
    "2**2"
   ]
  },
  {
   "cell_type": "code",
   "execution_count": 15,
   "id": "4571f511-1a1a-4ad2-a41a-725467902956",
   "metadata": {},
   "outputs": [
    {
     "data": {
      "text/plain": [
       "0"
      ]
     },
     "execution_count": 15,
     "metadata": {},
     "output_type": "execute_result"
    }
   ],
   "source": [
    "10 % 2\n"
   ]
  },
  {
   "cell_type": "code",
   "execution_count": 16,
   "id": "4caa50a8-5f64-408f-bbd4-628705403487",
   "metadata": {},
   "outputs": [
    {
     "data": {
      "text/plain": [
       "1"
      ]
     },
     "execution_count": 16,
     "metadata": {},
     "output_type": "execute_result"
    }
   ],
   "source": [
    "11 %2"
   ]
  },
  {
   "cell_type": "markdown",
   "id": "cfbc2c9c-d603-4f66-a71d-7030bc6ccdc3",
   "metadata": {},
   "source": [
    "\"yani % şareti yapıncabölümden  kalını gösteriyor\" "
   ]
  },
  {
   "cell_type": "markdown",
   "id": "11d01eba-1026-4c81-9cb6-304098192562",
   "metadata": {},
   "source": [
    "integer (tam sayılar)"
   ]
  },
  {
   "cell_type": "code",
   "execution_count": 17,
   "id": "30679079-e396-4d7e-9d32-044afee7d3ad",
   "metadata": {},
   "outputs": [
    {
     "data": {
      "text/plain": [
       "9"
      ]
     },
     "execution_count": 17,
     "metadata": {},
     "output_type": "execute_result"
    }
   ],
   "source": [
    " 3+6"
   ]
  },
  {
   "cell_type": "markdown",
   "id": "a099ae65-43ce-4d69-9a3e-94bea71c6184",
   "metadata": {},
   "source": [
    "float  (kesirli sayı)"
   ]
  },
  {
   "cell_type": "code",
   "execution_count": 19,
   "id": "e4489572-c0d7-41c6-bb54-aaf264173386",
   "metadata": {},
   "outputs": [
    {
     "data": {
      "text/plain": [
       "1.2000000000000002"
      ]
     },
     "execution_count": 19,
     "metadata": {},
     "output_type": "execute_result"
    }
   ],
   "source": [
    "0.4 * 3.0"
   ]
  },
  {
   "cell_type": "markdown",
   "id": "2096cc4a-c4bf-48ae-882f-8f3e99c972da",
   "metadata": {},
   "source": [
    "Veriables"
   ]
  },
  {
   "cell_type": "code",
   "execution_count": 25,
   "id": "b5d4d688-3d96-4be0-b744-447e5d58df2a",
   "metadata": {},
   "outputs": [],
   "source": [
    "x = 5"
   ]
  },
  {
   "cell_type": "code",
   "execution_count": 30,
   "id": "10461a73-a935-4a3a-b25b-d57ef06219f4",
   "metadata": {},
   "outputs": [],
   "source": [
    "y = 3"
   ]
  },
  {
   "cell_type": "code",
   "execution_count": 32,
   "id": "0032ee21-11a4-403d-a842-fb1a667324dc",
   "metadata": {},
   "outputs": [
    {
     "data": {
      "text/plain": [
       "8"
      ]
     },
     "execution_count": 32,
     "metadata": {},
     "output_type": "execute_result"
    }
   ],
   "source": [
    "x+y"
   ]
  },
  {
   "cell_type": "code",
   "execution_count": 33,
   "id": "4a1ebce6-a6e5-42a1-b6ee-5bc6071acd3e",
   "metadata": {},
   "outputs": [
    {
     "data": {
      "text/plain": [
       "125"
      ]
     },
     "execution_count": 33,
     "metadata": {},
     "output_type": "execute_result"
    }
   ],
   "source": [
    "x**y"
   ]
  },
  {
   "cell_type": "code",
   "execution_count": 34,
   "id": "54989484-d218-419d-9714-4d07068f2a43",
   "metadata": {},
   "outputs": [],
   "source": [
    "x = 4"
   ]
  },
  {
   "cell_type": "code",
   "execution_count": 35,
   "id": "f9f97715-de1c-4fb3-9e66-1d6e37e084ff",
   "metadata": {},
   "outputs": [
    {
     "data": {
      "text/plain": [
       "7"
      ]
     },
     "execution_count": 35,
     "metadata": {},
     "output_type": "execute_result"
    }
   ],
   "source": [
    "x+y"
   ]
  },
  {
   "cell_type": "code",
   "execution_count": 39,
   "id": "eead674b-7ea8-4e6e-b476-8f3d1e12f6b7",
   "metadata": {},
   "outputs": [
    {
     "name": "stdin",
     "output_type": "stream",
     "text": [
      "r:  5\n"
     ]
    }
   ],
   "source": [
    "r = input(\"r: \")"
   ]
  },
  {
   "cell_type": "code",
   "execution_count": 42,
   "id": "4c6566ad-a576-42d2-bb90-7bc0fe74cb44",
   "metadata": {},
   "outputs": [
    {
     "data": {
      "text/plain": [
       "int"
      ]
     },
     "execution_count": 42,
     "metadata": {},
     "output_type": "execute_result"
    }
   ],
   "source": [
    "type(x)"
   ]
  },
  {
   "cell_type": "code",
   "execution_count": 43,
   "id": "f1bf4d49-819f-498c-8462-c5bb1e855d18",
   "metadata": {},
   "outputs": [],
   "source": [
    "pi = 3.14"
   ]
  },
  {
   "cell_type": "code",
   "execution_count": 44,
   "id": "3e811dab-0b71-4c91-99dc-6705089fcf1e",
   "metadata": {},
   "outputs": [
    {
     "data": {
      "text/plain": [
       "float"
      ]
     },
     "execution_count": 44,
     "metadata": {},
     "output_type": "execute_result"
    }
   ],
   "source": [
    "type(pi)"
   ]
  },
  {
   "cell_type": "code",
   "execution_count": 45,
   "id": "3a0073f4-ae6f-4f78-9dd5-4c2bfb7893a3",
   "metadata": {},
   "outputs": [
    {
     "data": {
      "text/plain": [
       "'5'"
      ]
     },
     "execution_count": 45,
     "metadata": {},
     "output_type": "execute_result"
    }
   ],
   "source": [
    "r"
   ]
  },
  {
   "cell_type": "code",
   "execution_count": 46,
   "id": "340644a5-a034-4247-a509-13f8bef51dc1",
   "metadata": {},
   "outputs": [
    {
     "data": {
      "text/plain": [
       "str"
      ]
     },
     "execution_count": 46,
     "metadata": {},
     "output_type": "execute_result"
    }
   ],
   "source": [
    "type(r)"
   ]
  },
  {
   "cell_type": "code",
   "execution_count": 47,
   "id": "bd4bc140-e518-4bad-969b-d5a4a8d2e754",
   "metadata": {},
   "outputs": [
    {
     "data": {
      "text/plain": [
       "12.56"
      ]
     },
     "execution_count": 47,
     "metadata": {},
     "output_type": "execute_result"
    }
   ],
   "source": [
    "x * pi"
   ]
  },
  {
   "cell_type": "code",
   "execution_count": 48,
   "id": "712ec476-ae45-4d98-a1ba-d9257e37a226",
   "metadata": {},
   "outputs": [],
   "source": [
    "r_int = int(r)"
   ]
  },
  {
   "cell_type": "code",
   "execution_count": 49,
   "id": "5278ffac-7939-40d7-953e-126792a069c4",
   "metadata": {},
   "outputs": [
    {
     "data": {
      "text/plain": [
       "5"
      ]
     },
     "execution_count": 49,
     "metadata": {},
     "output_type": "execute_result"
    }
   ],
   "source": [
    "r_int"
   ]
  },
  {
   "cell_type": "code",
   "execution_count": 50,
   "id": "dfb0db15-f50d-4b2a-b2ff-8cb1a3a8aa69",
   "metadata": {},
   "outputs": [
    {
     "data": {
      "text/plain": [
       "int"
      ]
     },
     "execution_count": 50,
     "metadata": {},
     "output_type": "execute_result"
    }
   ],
   "source": [
    "type(r_int)"
   ]
  },
  {
   "cell_type": "code",
   "execution_count": 51,
   "id": "a1f950a3-8c18-4d13-9799-6052753cf467",
   "metadata": {},
   "outputs": [
    {
     "data": {
      "text/plain": [
       "31.400000000000002"
      ]
     },
     "execution_count": 51,
     "metadata": {},
     "output_type": "execute_result"
    }
   ],
   "source": [
    "r_int * pi * 2"
   ]
  },
  {
   "cell_type": "code",
   "execution_count": null,
   "id": "2b785f7d-3d9b-4719-a61b-5041a88c4bd1",
   "metadata": {},
   "outputs": [],
   "source": []
  }
 ],
 "metadata": {
  "kernelspec": {
   "display_name": "Python 3 (ipykernel)",
   "language": "python",
   "name": "python3"
  },
  "language_info": {
   "codemirror_mode": {
    "name": "ipython",
    "version": 3
   },
   "file_extension": ".py",
   "mimetype": "text/x-python",
   "name": "python",
   "nbconvert_exporter": "python",
   "pygments_lexer": "ipython3",
   "version": "3.12.4"
  }
 },
 "nbformat": 4,
 "nbformat_minor": 5
}
