{
 "cells": [
  {
   "cell_type": "code",
   "execution_count": 1,
   "id": "c7e86960-321b-40d5-8980-1aa8f09b96de",
   "metadata": {},
   "outputs": [],
   "source": [
    "my_list = {1,2,3,1}"
   ]
  },
  {
   "cell_type": "code",
   "execution_count": 2,
   "id": "344fdbbf-fbdc-49b4-b85d-6f4d1c959a95",
   "metadata": {},
   "outputs": [
    {
     "data": {
      "text/plain": [
       "{1, 2, 3}"
      ]
     },
     "execution_count": 2,
     "metadata": {},
     "output_type": "execute_result"
    }
   ],
   "source": [
    "my_list"
   ]
  },
  {
   "cell_type": "markdown",
   "id": "98a9a7a8-9f22-475c-9aca-9448bf8601a1",
   "metadata": {},
   "source": [
    "## casting"
   ]
  },
  {
   "cell_type": "code",
   "execution_count": 3,
   "id": "c1a034ee-ef5e-49c3-9a5b-7969a71612cf",
   "metadata": {},
   "outputs": [],
   "source": [
    "my_set = set(my_list)"
   ]
  },
  {
   "cell_type": "code",
   "execution_count": 4,
   "id": "aa7286ba-c8d3-4433-a3f9-c04069d4eb2b",
   "metadata": {},
   "outputs": [
    {
     "data": {
      "text/plain": [
       "{1, 2, 3}"
      ]
     },
     "execution_count": 4,
     "metadata": {},
     "output_type": "execute_result"
    }
   ],
   "source": [
    "my_set"
   ]
  },
  {
   "cell_type": "markdown",
   "id": "f7ed3122-96f7-4c64-97a1-683edbf960c7",
   "metadata": {},
   "source": [
    "setlerde aynı listedeki rakam yada sözcük veya harf birden fazla kez bulunuyorasa birini gösterir süslü parantez içinde olacak şekilde kullanmak gerekiyor"
   ]
  },
  {
   "cell_type": "code",
   "execution_count": 10,
   "id": "14b89b03-e620-42e6-b0a7-6d39e7f628c7",
   "metadata": {},
   "outputs": [],
   "source": [
    "my_set_2 ={1,2,3,1}"
   ]
  },
  {
   "cell_type": "code",
   "execution_count": 11,
   "id": "b218f502-1b43-4760-9543-006458461358",
   "metadata": {
    "jp-MarkdownHeadingCollapsed": true
   },
   "outputs": [
    {
     "data": {
      "text/plain": [
       "{1, 2, 3}"
      ]
     },
     "execution_count": 11,
     "metadata": {},
     "output_type": "execute_result"
    }
   ],
   "source": [
    "my_set_2"
   ]
  },
  {
   "cell_type": "code",
   "execution_count": 12,
   "id": "1f3147ef-d91e-4c26-948f-bc3f6f246abf",
   "metadata": {},
   "outputs": [
    {
     "data": {
      "text/plain": [
       "set"
      ]
     },
     "execution_count": 12,
     "metadata": {},
     "output_type": "execute_result"
    }
   ],
   "source": [
    "type(my_set_2)"
   ]
  },
  {
   "cell_type": "code",
   "execution_count": 14,
   "id": "bcdfb7ef-c2b3-4001-b259-f849605a62c4",
   "metadata": {},
   "outputs": [],
   "source": [
    "my_set_3 = {\"a\",\"b\",\"a\"}"
   ]
  },
  {
   "cell_type": "code",
   "execution_count": 15,
   "id": "bff39527-14a9-4011-bb33-460ed32e46ca",
   "metadata": {},
   "outputs": [
    {
     "data": {
      "text/plain": [
       "{'a', 'b'}"
      ]
     },
     "execution_count": 15,
     "metadata": {},
     "output_type": "execute_result"
    }
   ],
   "source": [
    "my_set_3"
   ]
  },
  {
   "cell_type": "code",
   "execution_count": 18,
   "id": "17c747aa-91cc-4c69-9494-f759c03bcbbd",
   "metadata": {},
   "outputs": [],
   "source": [
    "my_list = []"
   ]
  },
  {
   "cell_type": "code",
   "execution_count": 19,
   "id": "bd93ff48-1639-416b-a606-33e82d3cc7ba",
   "metadata": {},
   "outputs": [
    {
     "data": {
      "text/plain": [
       "list"
      ]
     },
     "execution_count": 19,
     "metadata": {},
     "output_type": "execute_result"
    }
   ],
   "source": [
    "type(my_list)"
   ]
  },
  {
   "cell_type": "code",
   "execution_count": 20,
   "id": "a1492326-fc15-4b98-ad4a-a88869204f59",
   "metadata": {},
   "outputs": [
    {
     "data": {
      "text/plain": [
       "[]"
      ]
     },
     "execution_count": 20,
     "metadata": {},
     "output_type": "execute_result"
    }
   ],
   "source": [
    "my_list"
   ]
  },
  {
   "cell_type": "markdown",
   "id": "ed4f2e37-bbda-4d12-b95a-c2fe8e2d0a00",
   "metadata": {},
   "source": [
    "yukarıdaki boş listeye ekleme yapacagız  append kodu ile"
   ]
  },
  {
   "cell_type": "code",
   "execution_count": 21,
   "id": "67b2127f-81e7-4eaf-9b42-5d82da8bf02a",
   "metadata": {},
   "outputs": [],
   "source": [
    "my_list.append(1)"
   ]
  },
  {
   "cell_type": "code",
   "execution_count": 22,
   "id": "0e9f126b-9e0c-4ae0-8b89-46aa74cd048d",
   "metadata": {},
   "outputs": [
    {
     "data": {
      "text/plain": [
       "[1]"
      ]
     },
     "execution_count": 22,
     "metadata": {},
     "output_type": "execute_result"
    }
   ],
   "source": [
    "my_list"
   ]
  },
  {
   "cell_type": "markdown",
   "id": "677c6edb-20cf-4901-bd82-d58b8d85470e",
   "metadata": {},
   "source": [
    "my_set_4 = {}"
   ]
  },
  {
   "cell_type": "markdown",
   "id": "78a446ac-a5d3-47d0-959d-fc6f6fdef18c",
   "metadata": {},
   "source": [
    "my_set_4"
   ]
  },
  {
   "cell_type": "code",
   "execution_count": 26,
   "id": "430ebd2b-2951-4dc4-a3d3-992ca29b7e9e",
   "metadata": {},
   "outputs": [
    {
     "data": {
      "text/plain": [
       "dict"
      ]
     },
     "execution_count": 26,
     "metadata": {},
     "output_type": "execute_result"
    }
   ],
   "source": [
    "type(my_set_4)"
   ]
  },
  {
   "cell_type": "markdown",
   "id": "74c10416-7d16-4dec-acb3-b0d8f8c711a2",
   "metadata": {},
   "source": [
    "yukarıda göeüldügü üzere set_4 ü dict yani sözlük sanıyor boş oldugu için\n",
    "       set tanımlası aşagıdaki gibi olacak\n",
    "    "
   ]
  },
  {
   "cell_type": "code",
   "execution_count": 27,
   "id": "2d43e3de-0745-4553-91c7-c6b19d2a79f1",
   "metadata": {},
   "outputs": [],
   "source": [
    "my_set_5 = set()"
   ]
  },
  {
   "cell_type": "code",
   "execution_count": 29,
   "id": "96b0296e-e399-4423-99e6-6d6b799851e1",
   "metadata": {},
   "outputs": [
    {
     "data": {
      "text/plain": [
       "set()"
      ]
     },
     "execution_count": 29,
     "metadata": {},
     "output_type": "execute_result"
    }
   ],
   "source": [
    "my_set_5"
   ]
  },
  {
   "cell_type": "markdown",
   "id": "ef4b096b-e899-4909-9a2c-035aa4384f2a",
   "metadata": {},
   "source": [
    "set eklemek için add komutu kullanılabilir"
   ]
  },
  {
   "cell_type": "code",
   "execution_count": 30,
   "id": "39356b76-fc5d-48c7-9be4-8427226bd431",
   "metadata": {},
   "outputs": [],
   "source": [
    "my_set_5.add(1)"
   ]
  },
  {
   "cell_type": "code",
   "execution_count": 31,
   "id": "1c0f9f25-2382-4163-aba5-f573d5e3a11f",
   "metadata": {},
   "outputs": [],
   "source": [
    "my_set_5.add(2)"
   ]
  },
  {
   "cell_type": "code",
   "execution_count": 32,
   "id": "8ba23f0c-186d-4ea8-8691-ca8e8263261a",
   "metadata": {},
   "outputs": [
    {
     "data": {
      "text/plain": [
       "{1, 2}"
      ]
     },
     "execution_count": 32,
     "metadata": {},
     "output_type": "execute_result"
    }
   ],
   "source": [
    "my_set_5"
   ]
  },
  {
   "cell_type": "code",
   "execution_count": 33,
   "id": "98ff9ba4-9808-4d8a-95b7-2c8c37dd7f39",
   "metadata": {},
   "outputs": [],
   "source": [
    "my_set_5.add(2)"
   ]
  },
  {
   "cell_type": "code",
   "execution_count": 34,
   "id": "0b101fa7-20aa-4d23-b0b9-de37536fe1c8",
   "metadata": {},
   "outputs": [
    {
     "data": {
      "text/plain": [
       "{1, 2}"
      ]
     },
     "execution_count": 34,
     "metadata": {},
     "output_type": "execute_result"
    }
   ],
   "source": [
    "my_set_5"
   ]
  },
  {
   "cell_type": "markdown",
   "id": "543f949c-aab9-4c40-a91b-25c0d40f0be9",
   "metadata": {},
   "source": [
    "görüldügü gibi 2 yi tekrar eklemedi set olarak ayarlanmış"
   ]
  },
  {
   "cell_type": "code",
   "execution_count": 35,
   "id": "763f5425-643a-406f-a220-486f97d10775",
   "metadata": {},
   "outputs": [
    {
     "data": {
      "text/plain": [
       "set"
      ]
     },
     "execution_count": 35,
     "metadata": {},
     "output_type": "execute_result"
    }
   ],
   "source": [
    "type(my_set_5)"
   ]
  },
  {
   "cell_type": "markdown",
   "id": "e7ee5e26-d9f9-46fc-8cf5-a0c21e3673f2",
   "metadata": {},
   "source": [
    "listeye eklemek için append kodunu kullanırken set e add kodunu kullanıyoruz"
   ]
  },
  {
   "cell_type": "code",
   "execution_count": 37,
   "id": "fc82b94e-906e-48ba-9014-399085631306",
   "metadata": {},
   "outputs": [],
   "source": [
    "my_dict_2 = dict()"
   ]
  },
  {
   "cell_type": "code",
   "execution_count": 38,
   "id": "1017bab5-5642-46ef-9a0b-77e03668a6f3",
   "metadata": {},
   "outputs": [],
   "source": [
    "my_dict_2[\"key1\"] = 1"
   ]
  },
  {
   "cell_type": "code",
   "execution_count": 39,
   "id": "82f54b40-28b5-4d4c-91bd-6081f3cf852e",
   "metadata": {},
   "outputs": [
    {
     "data": {
      "text/plain": [
       "{'key1': 1}"
      ]
     },
     "execution_count": 39,
     "metadata": {},
     "output_type": "execute_result"
    }
   ],
   "source": [
    "my_dict_2"
   ]
  },
  {
   "cell_type": "code",
   "execution_count": 40,
   "id": "e437f81d-f09f-4dfd-a9a4-5eb3a0cfcd2f",
   "metadata": {},
   "outputs": [],
   "source": [
    "my_list_10 = list()"
   ]
  },
  {
   "cell_type": "code",
   "execution_count": 41,
   "id": "48430241-046c-420f-8e2f-5edf47091c5d",
   "metadata": {},
   "outputs": [
    {
     "data": {
      "text/plain": [
       "list"
      ]
     },
     "execution_count": 41,
     "metadata": {},
     "output_type": "execute_result"
    }
   ],
   "source": [
    "type(my_list_10)"
   ]
  },
  {
   "cell_type": "code",
   "execution_count": 42,
   "id": "7be608a7-79ca-465f-b661-b3a699458c40",
   "metadata": {},
   "outputs": [
    {
     "data": {
      "text/plain": [
       "[]"
      ]
     },
     "execution_count": 42,
     "metadata": {},
     "output_type": "execute_result"
    }
   ],
   "source": [
    "my_list_10"
   ]
  },
  {
   "cell_type": "code",
   "execution_count": 43,
   "id": "2ba4cdee-5e00-4700-b2a3-82cd954ca940",
   "metadata": {},
   "outputs": [],
   "source": [
    "my_list_10.append(\"a\")"
   ]
  },
  {
   "cell_type": "code",
   "execution_count": 45,
   "id": "09c96b0f-6f68-470b-a885-8841250a00ae",
   "metadata": {},
   "outputs": [],
   "source": [
    "my_list_10.append(2)"
   ]
  },
  {
   "cell_type": "code",
   "execution_count": 46,
   "id": "47cdddea-4fba-432c-9fbe-67699d5293d5",
   "metadata": {},
   "outputs": [],
   "source": [
    "my_list_10.append([1,2])"
   ]
  },
  {
   "cell_type": "code",
   "execution_count": 47,
   "id": "93c76e24-1579-462a-b8ba-97de88d084c1",
   "metadata": {},
   "outputs": [
    {
     "data": {
      "text/plain": [
       "['a', 2, [1, 2]]"
      ]
     },
     "execution_count": 47,
     "metadata": {},
     "output_type": "execute_result"
    }
   ],
   "source": [
    "my_list_10"
   ]
  },
  {
   "cell_type": "markdown",
   "id": "5c150adf-c1b7-42fb-b6dc-1ffd7edd9c9a",
   "metadata": {},
   "source": [
    "yukarıda hem eklme yaptık hemde [] in içindeki degerlerle liste eklemiş olduk"
   ]
  },
  {
   "cell_type": "code",
   "execution_count": null,
   "id": "482484e2-909c-4521-be9e-281440e7a6d3",
   "metadata": {},
   "outputs": [],
   "source": []
  }
 ],
 "metadata": {
  "kernelspec": {
   "display_name": "Python 3 (ipykernel)",
   "language": "python",
   "name": "python3"
  },
  "language_info": {
   "codemirror_mode": {
    "name": "ipython",
    "version": 3
   },
   "file_extension": ".py",
   "mimetype": "text/x-python",
   "name": "python",
   "nbconvert_exporter": "python",
   "pygments_lexer": "ipython3",
   "version": "3.12.4"
  }
 },
 "nbformat": 4,
 "nbformat_minor": 5
}
