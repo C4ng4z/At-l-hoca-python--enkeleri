{
 "cells": [
  {
   "cell_type": "code",
   "execution_count": 1,
   "id": "b439b797-978c-4190-ae60-c84ac8eef3ae",
   "metadata": {},
   "outputs": [],
   "source": [
    "my_list = [1,2,3,4,5]"
   ]
  },
  {
   "cell_type": "code",
   "execution_count": 3,
   "id": "f6bbde75-2e5f-4a26-bf11-c09eb3034da5",
   "metadata": {},
   "outputs": [
    {
     "name": "stdout",
     "output_type": "stream",
     "text": [
      "1\n",
      "2\n",
      "3\n",
      "4\n",
      "5\n"
     ]
    }
   ],
   "source": [
    "for number in my_list:\n",
    "    print(number)"
   ]
  },
  {
   "cell_type": "markdown",
   "id": "845b3889-be36-4622-92ed-93c27df7ad52",
   "metadata": {},
   "source": [
    "#yukarıda ki kodun açıklaması benim listemdeki bütün elemanları al ve onları number diye bir degişkene ata"
   ]
  },
  {
   "cell_type": "code",
   "execution_count": 4,
   "id": "c1c49db5-1444-4299-b39f-0f653fe1bfa0",
   "metadata": {},
   "outputs": [
    {
     "name": "stdout",
     "output_type": "stream",
     "text": [
      "5\n",
      "10\n",
      "15\n",
      "20\n",
      "25\n"
     ]
    }
   ],
   "source": [
    "for item in my_list:\n",
    "    new_number = item * 5\n",
    "    print(new_number)"
   ]
  },
  {
   "cell_type": "markdown",
   "id": "41f48d9e-463c-44c8-9a52-e14234877ed6",
   "metadata": {},
   "source": [
    "#yukarıdaki kod da ise en baştaki 12345 listesindeki bütün elemanları 5 le çarptı"
   ]
  },
  {
   "cell_type": "code",
   "execution_count": 13,
   "id": "62962d2b-cc4c-40b2-bf86-b3ef2bccc958",
   "metadata": {},
   "outputs": [
    {
     "name": "stdout",
     "output_type": "stream",
     "text": [
      "2\n",
      "4\n"
     ]
    }
   ],
   "source": [
    "for number in my_list:\n",
    "    if number % 2 == 0:\n",
    "        print(number)"
   ]
  },
  {
   "cell_type": "markdown",
   "id": "a1925066-0b58-41c6-9dbf-2f431aca7c30",
   "metadata": {},
   "source": [
    "#yukarıda çift sayıları yazdırmak için kullanılır"
   ]
  },
  {
   "cell_type": "code",
   "execution_count": 15,
   "id": "8be1f81c-2d1c-40f4-9d7c-1b2a6be21995",
   "metadata": {},
   "outputs": [
    {
     "name": "stdout",
     "output_type": "stream",
     "text": [
      "true\n"
     ]
    }
   ],
   "source": [
    "if 2 in my_list:\n",
    "    print(\"true\")"
   ]
  },
  {
   "cell_type": "code",
   "execution_count": 16,
   "id": "eca13066-0d72-4cb8-950e-0915ab592948",
   "metadata": {},
   "outputs": [
    {
     "name": "stdout",
     "output_type": "stream",
     "text": [
      "true\n"
     ]
    }
   ],
   "source": [
    "for num in my_list:\n",
    "    if num == 2:\n",
    "        print(\"true\")"
   ]
  },
  {
   "cell_type": "code",
   "execution_count": 18,
   "id": "c677a61e-b3ca-4d2c-9d83-6be8a78f9751",
   "metadata": {},
   "outputs": [],
   "source": [
    "my_string = \"James Hatfield\""
   ]
  },
  {
   "cell_type": "code",
   "execution_count": 23,
   "id": "a73afa89-5a0d-4405-8b3d-88986c7ffd2a",
   "metadata": {},
   "outputs": [
    {
     "name": "stdout",
     "output_type": "stream",
     "text": [
      "J\n",
      "a\n",
      "m\n",
      "e\n",
      "s\n",
      " \n",
      "H\n",
      "a\n",
      "t\n",
      "f\n",
      "i\n",
      "e\n",
      "l\n",
      "d\n"
     ]
    }
   ],
   "source": [
    "for letter in my_string:\n",
    "    print(letter)"
   ]
  },
  {
   "cell_type": "code",
   "execution_count": 32,
   "id": "db38f3d0-6f22-4260-b30c-1abc112de552",
   "metadata": {},
   "outputs": [],
   "source": [
    "my_tuple = (1,2,3)"
   ]
  },
  {
   "cell_type": "code",
   "execution_count": 35,
   "id": "61efb14f-84c0-473e-83fe-645f2acb7f9d",
   "metadata": {},
   "outputs": [
    {
     "name": "stdout",
     "output_type": "stream",
     "text": [
      "-5\n",
      "0\n",
      "5\n"
     ]
    }
   ],
   "source": [
    "for item in my_tuple:\n",
    "    print(item * 5 - 10)"
   ]
  },
  {
   "cell_type": "code",
   "execution_count": 36,
   "id": "a4a68c4d-7300-420e-b1db-1117a4f0c96a",
   "metadata": {},
   "outputs": [],
   "source": [
    "my_new_list = [(\"a\",\"b\"),(\"c\",\"d\"),(\"e\",\"f\"),(\"g\",\"h\")]"
   ]
  },
  {
   "cell_type": "code",
   "execution_count": 38,
   "id": "b42ba97b-517a-4628-ae30-01d247d045c3",
   "metadata": {},
   "outputs": [
    {
     "name": "stdout",
     "output_type": "stream",
     "text": [
      "('a', 'b')\n",
      "('c', 'd')\n",
      "('e', 'f')\n",
      "('g', 'h')\n"
     ]
    }
   ],
   "source": [
    "for element in my_new_list:\n",
    "    print(element)"
   ]
  },
  {
   "cell_type": "code",
   "execution_count": 39,
   "id": "795ef7b3-1643-49ab-8908-e157abface2c",
   "metadata": {},
   "outputs": [
    {
     "name": "stdout",
     "output_type": "stream",
     "text": [
      "a b\n",
      "c d\n",
      "e f\n",
      "g h\n"
     ]
    }
   ],
   "source": [
    "for (x,y) in my_new_list:\n",
    "    print(x,y)"
   ]
  },
  {
   "cell_type": "code",
   "execution_count": 40,
   "id": "fee9345b-b37c-4827-8dd6-ad13a7e4f49c",
   "metadata": {},
   "outputs": [
    {
     "name": "stdout",
     "output_type": "stream",
     "text": [
      "a\n",
      "c\n",
      "e\n",
      "g\n"
     ]
    }
   ],
   "source": [
    "for (x,y) in my_new_list:\n",
    "    print(x)"
   ]
  },
  {
   "cell_type": "code",
   "execution_count": 41,
   "id": "0b8859f2-d0c5-47ea-a6b6-ff0d4fb5be15",
   "metadata": {},
   "outputs": [
    {
     "name": "stdout",
     "output_type": "stream",
     "text": [
      "b\n",
      "d\n",
      "f\n",
      "h\n"
     ]
    }
   ],
   "source": [
    "for (x,y) in my_new_list:\n",
    "    print(y)"
   ]
  },
  {
   "cell_type": "code",
   "execution_count": 46,
   "id": "c54eed88-1a45-4d46-b9d1-05f03f551ca0",
   "metadata": {},
   "outputs": [],
   "source": [
    "my_tuple_list = [(0,1,2,),(3,4,5),(9,10,11)]"
   ]
  },
  {
   "cell_type": "code",
   "execution_count": 47,
   "id": "152158da-6e0c-4bf4-9176-dffc05cdfa61",
   "metadata": {},
   "outputs": [
    {
     "name": "stdout",
     "output_type": "stream",
     "text": [
      "2\n",
      "5\n",
      "11\n"
     ]
    }
   ],
   "source": [
    "for (x,y,z) in my_tuple_list:\n",
    "    print(z)"
   ]
  },
  {
   "cell_type": "code",
   "execution_count": 48,
   "id": "b3af0cb1-3c78-447d-8b20-33f478f18488",
   "metadata": {},
   "outputs": [],
   "source": [
    "my_dictionary = {\"key1\":100,\"key2\":200,\"key3\":300} "
   ]
  },
  {
   "cell_type": "code",
   "execution_count": 50,
   "id": "0b3192e2-d8a8-43be-8715-307aeab6c6c0",
   "metadata": {},
   "outputs": [
    {
     "name": "stdout",
     "output_type": "stream",
     "text": [
      "key1\n",
      "key2\n",
      "key3\n"
     ]
    }
   ],
   "source": [
    "for a,b in my_dictionary.items():\n",
    "    print(a)"
   ]
  },
  {
   "cell_type": "code",
   "execution_count": 51,
   "id": "983bf2bd-29cd-4090-b792-087382e44ecc",
   "metadata": {},
   "outputs": [
    {
     "name": "stdout",
     "output_type": "stream",
     "text": [
      "100\n",
      "200\n",
      "300\n"
     ]
    }
   ],
   "source": [
    "for a,b in my_dictionary.items():\n",
    "    print(b)"
   ]
  },
  {
   "cell_type": "code",
   "execution_count": 54,
   "id": "ad81733d-77b7-4deb-965c-931823c929e9",
   "metadata": {},
   "outputs": [
    {
     "name": "stdout",
     "output_type": "stream",
     "text": [
      "key1\n",
      "key2\n",
      "key3\n"
     ]
    }
   ],
   "source": [
    "for (key,value) in my_dictionary.items():\n",
    "    print(key)"
   ]
  },
  {
   "cell_type": "code",
   "execution_count": 53,
   "id": "c46ec285-9bb7-4beb-8532-2c5e7f7d5c91",
   "metadata": {},
   "outputs": [
    {
     "name": "stdout",
     "output_type": "stream",
     "text": [
      "100\n",
      "200\n",
      "300\n"
     ]
    }
   ],
   "source": [
    "for key,value in my_dictionary.items():\n",
    "    print(value)"
   ]
  },
  {
   "cell_type": "code",
   "execution_count": null,
   "id": "f44f2df8-c73f-4bf2-b248-3697e109a87f",
   "metadata": {},
   "outputs": [],
   "source": []
  }
 ],
 "metadata": {
  "kernelspec": {
   "display_name": "Python 3 (ipykernel)",
   "language": "python",
   "name": "python3"
  },
  "language_info": {
   "codemirror_mode": {
    "name": "ipython",
    "version": 3
   },
   "file_extension": ".py",
   "mimetype": "text/x-python",
   "name": "python",
   "nbconvert_exporter": "python",
   "pygments_lexer": "ipython3",
   "version": "3.12.4"
  }
 },
 "nbformat": 4,
 "nbformat_minor": 5
}
