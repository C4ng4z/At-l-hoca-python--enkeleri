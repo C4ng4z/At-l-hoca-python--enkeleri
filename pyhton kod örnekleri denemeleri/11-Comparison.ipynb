{
 "cells": [
  {
   "cell_type": "code",
   "execution_count": 1,
   "id": "59164c30-d6d0-4938-9a15-8732f1bc91ff",
   "metadata": {},
   "outputs": [],
   "source": [
    "x = 5"
   ]
  },
  {
   "cell_type": "code",
   "execution_count": 2,
   "id": "9815ccdf-497e-4577-a444-04f924b91803",
   "metadata": {},
   "outputs": [],
   "source": [
    "y = 4"
   ]
  },
  {
   "cell_type": "code",
   "execution_count": 3,
   "id": "1376526d-80d0-4dc8-b062-3248a05778d6",
   "metadata": {},
   "outputs": [
    {
     "data": {
      "text/plain": [
       "True"
      ]
     },
     "execution_count": 3,
     "metadata": {},
     "output_type": "execute_result"
    }
   ],
   "source": [
    "x > y"
   ]
  },
  {
   "cell_type": "code",
   "execution_count": 5,
   "id": "1d09c1f2-ebff-429a-8596-3f424ed028e0",
   "metadata": {},
   "outputs": [
    {
     "data": {
      "text/plain": [
       "False"
      ]
     },
     "execution_count": 5,
     "metadata": {},
     "output_type": "execute_result"
    }
   ],
   "source": [
    "x < y"
   ]
  },
  {
   "cell_type": "code",
   "execution_count": 6,
   "id": "3c773d57-a283-4b0c-8bf2-159965834023",
   "metadata": {},
   "outputs": [
    {
     "data": {
      "text/plain": [
       "True"
      ]
     },
     "execution_count": 6,
     "metadata": {},
     "output_type": "execute_result"
    }
   ],
   "source": [
    "x >= y"
   ]
  },
  {
   "cell_type": "code",
   "execution_count": 7,
   "id": "dc65116c-feca-44e1-ad15-5cdbca1747a3",
   "metadata": {},
   "outputs": [
    {
     "data": {
      "text/plain": [
       "True"
      ]
     },
     "execution_count": 7,
     "metadata": {},
     "output_type": "execute_result"
    }
   ],
   "source": [
    "x >=5"
   ]
  },
  {
   "cell_type": "code",
   "execution_count": 8,
   "id": "41e5fb53-2bbe-45ad-aba1-53b2d7112121",
   "metadata": {},
   "outputs": [
    {
     "data": {
      "text/plain": [
       "True"
      ]
     },
     "execution_count": 8,
     "metadata": {},
     "output_type": "execute_result"
    }
   ],
   "source": [
    "x >=5.0"
   ]
  },
  {
   "cell_type": "code",
   "execution_count": 9,
   "id": "e5fd7107-cd7f-414b-ba9f-08ccd3a148f9",
   "metadata": {},
   "outputs": [
    {
     "data": {
      "text/plain": [
       "False"
      ]
     },
     "execution_count": 9,
     "metadata": {},
     "output_type": "execute_result"
    }
   ],
   "source": [
    "x>=5.1"
   ]
  },
  {
   "cell_type": "markdown",
   "id": "f2e9a5fb-68fd-4b98-8bfb-62e3c2120ec7",
   "metadata": {},
   "source": [
    "x , y ye eşitmi kontrolo etmek için == kullanırız "
   ]
  },
  {
   "cell_type": "code",
   "execution_count": 10,
   "id": "c9f71ec8-6612-47f4-9188-bcd498716f0f",
   "metadata": {},
   "outputs": [
    {
     "data": {
      "text/plain": [
       "False"
      ]
     },
     "execution_count": 10,
     "metadata": {},
     "output_type": "execute_result"
    }
   ],
   "source": [
    "x==y"
   ]
  },
  {
   "cell_type": "markdown",
   "id": "bae43dbd-401f-4afe-bcf0-1fd1e1df67d5",
   "metadata": {},
   "source": [
    "! gelince olumzuz anlamına gelir "
   ]
  },
  {
   "cell_type": "code",
   "execution_count": 11,
   "id": "b4dfde70-5551-4072-a402-c455f33cf044",
   "metadata": {},
   "outputs": [
    {
     "data": {
      "text/plain": [
       "True"
      ]
     },
     "execution_count": 11,
     "metadata": {},
     "output_type": "execute_result"
    }
   ],
   "source": [
    "x != y"
   ]
  },
  {
   "cell_type": "code",
   "execution_count": 12,
   "id": "c306f8c7-4d81-44bc-aa83-5d816285a7dd",
   "metadata": {},
   "outputs": [],
   "source": [
    "# and or not "
   ]
  },
  {
   "cell_type": "code",
   "execution_count": 13,
   "id": "8ce305ad-47ac-4286-80c0-db452cb41125",
   "metadata": {},
   "outputs": [
    {
     "data": {
      "text/plain": [
       "True"
      ]
     },
     "execution_count": 13,
     "metadata": {},
     "output_type": "execute_result"
    }
   ],
   "source": [
    "2 > 1 and 3 > 2"
   ]
  },
  {
   "cell_type": "markdown",
   "id": "04cf6b7c-7c13-49b6-8e6d-cbbaabbf6467",
   "metadata": {},
   "source": [
    "burada dogru sonucu almak için iki  tarafında fogru olması gerekir"
   ]
  },
  {
   "cell_type": "code",
   "execution_count": 15,
   "id": "5954310b-5450-4374-b062-6440fd1359bf",
   "metadata": {},
   "outputs": [
    {
     "data": {
      "text/plain": [
       "True"
      ]
     },
     "execution_count": 15,
     "metadata": {},
     "output_type": "execute_result"
    }
   ],
   "source": [
    "2 < 1 or 3 > 2 "
   ]
  },
  {
   "cell_type": "markdown",
   "id": "e19115ba-70b0-4aca-9e4f-fc9367ec10ee",
   "metadata": {},
   "source": [
    " \"not\" geldiginde   olumsuz oluyor true olanı false alıyoruz"
   ]
  },
  {
   "cell_type": "code",
   "execution_count": 16,
   "id": "dcd3cb0f-9576-4794-8f76-a26a1cda0fd7",
   "metadata": {},
   "outputs": [
    {
     "data": {
      "text/plain": [
       "True"
      ]
     },
     "execution_count": 16,
     "metadata": {},
     "output_type": "execute_result"
    }
   ],
   "source": [
    "10 == 10"
   ]
  },
  {
   "cell_type": "code",
   "execution_count": 17,
   "id": "60d6297f-38db-490a-addd-4af75a3519e3",
   "metadata": {},
   "outputs": [
    {
     "data": {
      "text/plain": [
       "False"
      ]
     },
     "execution_count": 17,
     "metadata": {},
     "output_type": "execute_result"
    }
   ],
   "source": [
    "not 10 == 10"
   ]
  },
  {
   "cell_type": "code",
   "execution_count": null,
   "id": "b260f48a-bc38-4f0d-ac7e-2f68ff5f94fe",
   "metadata": {},
   "outputs": [],
   "source": []
  }
 ],
 "metadata": {
  "kernelspec": {
   "display_name": "Python 3 (ipykernel)",
   "language": "python",
   "name": "python3"
  },
  "language_info": {
   "codemirror_mode": {
    "name": "ipython",
    "version": 3
   },
   "file_extension": ".py",
   "mimetype": "text/x-python",
   "name": "python",
   "nbconvert_exporter": "python",
   "pygments_lexer": "ipython3",
   "version": "3.12.4"
  }
 },
 "nbformat": 4,
 "nbformat_minor": 5
}
