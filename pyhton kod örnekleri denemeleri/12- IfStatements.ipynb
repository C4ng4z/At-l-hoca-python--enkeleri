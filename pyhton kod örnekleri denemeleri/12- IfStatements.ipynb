{
 "cells": [
  {
   "cell_type": "code",
   "execution_count": 4,
   "id": "015e1ba0-8eb4-49b3-9bfd-5a33547d0b47",
   "metadata": {},
   "outputs": [
    {
     "name": "stdout",
     "output_type": "stream",
     "text": [
      "cem\n",
      "321\n"
     ]
    }
   ],
   "source": [
    "if 3 > 2:\n",
    "    print(\"cem\")\n",
    "    print (\"321\")"
   ]
  },
  {
   "cell_type": "code",
   "execution_count": 18,
   "id": "566c5835-b66f-4d84-8052-3d57916f75ea",
   "metadata": {},
   "outputs": [],
   "source": [
    "x = 4"
   ]
  },
  {
   "cell_type": "code",
   "execution_count": 19,
   "id": "706c2790-dddc-48f7-8d88-33c3a56b6633",
   "metadata": {},
   "outputs": [],
   "source": [
    "y = 4"
   ]
  },
  {
   "cell_type": "code",
   "execution_count": 20,
   "id": "ea230aea-dbb5-4fa5-8e54-8c4a67f1c9ac",
   "metadata": {},
   "outputs": [],
   "source": [
    "if x > y:\n",
    "    print(\"x is greater\")"
   ]
  },
  {
   "cell_type": "code",
   "execution_count": 23,
   "id": "465a83c0-9b66-4eae-9398-5fd3f05e4de9",
   "metadata": {},
   "outputs": [
    {
     "name": "stdout",
     "output_type": "stream",
     "text": [
      "x is y\n"
     ]
    }
   ],
   "source": [
    "if x > y:\n",
    "    print(\"x is greater\")\n",
    "elif x==y:\n",
    "    print(\"x is y\")\n",
    "else:\n",
    "    print(\"y is greater\")"
   ]
  },
  {
   "cell_type": "code",
   "execution_count": 29,
   "id": "fdec67e3-9108-4a0c-94f2-65985dfbf731",
   "metadata": {},
   "outputs": [
    {
     "name": "stdin",
     "output_type": "stream",
     "text": [
      "superhero:   Superman\n"
     ]
    }
   ],
   "source": [
    "my_superhero = input(\"superhero:  \")"
   ]
  },
  {
   "cell_type": "code",
   "execution_count": 30,
   "id": "3a73df7a-7653-43b1-93e5-b267bd8ca04f",
   "metadata": {},
   "outputs": [
    {
     "name": "stdout",
     "output_type": "stream",
     "text": [
      "Supermaan\n"
     ]
    }
   ],
   "source": [
    "if my_superhero == \"Batman\":\n",
    "    print(\"Batmaan\")\n",
    "elif my_superhero == \"Superman\" :\n",
    "    print(\"Supermaan\")\n",
    "elif my_superhero == \"Ironman\":\n",
    "    print(\"Ironmaan\")\n",
    "else: \n",
    "    print(\":(\")\n"
   ]
  },
  {
   "cell_type": "code",
   "execution_count": 31,
   "id": "8d3e539f-ac29-4548-89b1-11b8e2fff88e",
   "metadata": {},
   "outputs": [],
   "source": [
    "a = 10"
   ]
  },
  {
   "cell_type": "code",
   "execution_count": 32,
   "id": "52cedbed-a874-439a-9990-ee456b223dfc",
   "metadata": {},
   "outputs": [],
   "source": [
    "b = 15"
   ]
  },
  {
   "cell_type": "code",
   "execution_count": 33,
   "id": "11e1389f-15ea-494a-a64e-f33cd17efa73",
   "metadata": {},
   "outputs": [],
   "source": [
    "c = 20"
   ]
  },
  {
   "cell_type": "code",
   "execution_count": 36,
   "id": "988bcbd1-d34f-4b2a-b8cb-357d8c83fea1",
   "metadata": {},
   "outputs": [
    {
     "name": "stdout",
     "output_type": "stream",
     "text": [
      "Superman\n"
     ]
    }
   ],
   "source": [
    "if a > b or b < c:\n",
    "    print(\"Superman\")\n",
    "elif a < b and b >c:\n",
    "    print(\"batman\")\n",
    "else:\n",
    "    print(\"Aquaman\")"
   ]
  },
  {
   "cell_type": "code",
   "execution_count": 37,
   "id": "6e270dc9-4153-4177-ab84-4d6766dd56f2",
   "metadata": {},
   "outputs": [],
   "source": [
    "isDead = False"
   ]
  },
  {
   "cell_type": "code",
   "execution_count": 41,
   "id": "dc77c63e-c5d2-4d51-a3bd-0fc109b0ecae",
   "metadata": {},
   "outputs": [
    {
     "name": "stdout",
     "output_type": "stream",
     "text": [
      "chacter is not dead\n"
     ]
    }
   ],
   "source": [
    "if isDead == False:\n",
    "    print(\"chacter is not dead\")\n",
    "else:\n",
    "    print(\"character is dead\")"
   ]
  },
  {
   "cell_type": "code",
   "execution_count": 42,
   "id": "8f19ca94-da2a-46f2-b11f-76c45cdebd28",
   "metadata": {},
   "outputs": [
    {
     "name": "stdout",
     "output_type": "stream",
     "text": [
      "chacter is not dead\n"
     ]
    }
   ],
   "source": [
    "if isDead:\n",
    "    print(\"chacter is dead\")\n",
    "else:\n",
    "    print(\"chacter is not dead\")"
   ]
  },
  {
   "cell_type": "code",
   "execution_count": 43,
   "id": "7998178a-381c-4cca-beef-6ed924dea58b",
   "metadata": {},
   "outputs": [
    {
     "name": "stdout",
     "output_type": "stream",
     "text": [
      "character is not dead\n"
     ]
    }
   ],
   "source": [
    "if not isDead:\n",
    "    print(\"character is not dead\")"
   ]
  },
  {
   "cell_type": "code",
   "execution_count": 44,
   "id": "4681b998-23d5-4db7-ab34-fa9836191b66",
   "metadata": {},
   "outputs": [],
   "source": [
    "my_string = \"Hello World\""
   ]
  },
  {
   "cell_type": "code",
   "execution_count": 49,
   "id": "891ff1fc-b349-4fb3-8cac-382f68f0ae4e",
   "metadata": {},
   "outputs": [
    {
     "name": "stdout",
     "output_type": "stream",
     "text": [
      "equal\n"
     ]
    }
   ],
   "source": [
    "if my_string == \"Hello World\":\n",
    "    print(\"equal\")"
   ]
  },
  {
   "cell_type": "code",
   "execution_count": 53,
   "id": "37887d1c-da15-4d60-8abc-3965b931a679",
   "metadata": {},
   "outputs": [
    {
     "name": "stdout",
     "output_type": "stream",
     "text": [
      "true\n"
     ]
    }
   ],
   "source": [
    "if \"Hello\" in my_string:\n",
    "    print(\"true\")\n",
    "else:\n",
    "    print(\"false\")"
   ]
  },
  {
   "cell_type": "markdown",
   "id": "515ff6bc-e1df-403a-803e-b037826ac882",
   "metadata": {},
   "source": [
    "Yukarıdaki komut  stringin içinde hello geçiyor mu onu kontrol ediyor varsa veya yoksa yazdırıyor."
   ]
  },
  {
   "cell_type": "code",
   "execution_count": 54,
   "id": "103666e6-4bd6-49d7-929e-85f43681b2bb",
   "metadata": {},
   "outputs": [],
   "source": [
    "my_list = [1,2,3,4,5]"
   ]
  },
  {
   "cell_type": "code",
   "execution_count": 55,
   "id": "f9b2d5d8-633e-4639-b199-04d05f059e6a",
   "metadata": {},
   "outputs": [
    {
     "name": "stdout",
     "output_type": "stream",
     "text": [
      "true\n"
     ]
    }
   ],
   "source": [
    "if 2 in my_list:\n",
    "    print(\"true\")\n",
    "else:\n",
    "    print(\"false\")"
   ]
  },
  {
   "cell_type": "code",
   "execution_count": 56,
   "id": "3852a714-c63a-4855-8f55-1909d7df1cdf",
   "metadata": {},
   "outputs": [],
   "source": [
    "my_dictionary = {\"k1\": 100 , \"k2\" :200, \"k3\" :300}"
   ]
  },
  {
   "cell_type": "code",
   "execution_count": 59,
   "id": "848e4020-2c1c-4fbb-88dc-ac2d715a8ecb",
   "metadata": {},
   "outputs": [
    {
     "name": "stdout",
     "output_type": "stream",
     "text": [
      "false\n"
     ]
    }
   ],
   "source": [
    "if 100 in my_dictionary.keys():\n",
    "    print(\"true\")\n",
    "else:\n",
    "    print(\"false\")"
   ]
  },
  {
   "cell_type": "code",
   "execution_count": 60,
   "id": "0a3391c8-f4ce-4365-9950-a2ad860a7cbf",
   "metadata": {},
   "outputs": [
    {
     "name": "stdout",
     "output_type": "stream",
     "text": [
      "true\n"
     ]
    }
   ],
   "source": [
    "if \"k1\" in my_dictionary.keys():\n",
    "    print(\"true\")\n",
    "else:\n",
    "    print(\"false\")"
   ]
  },
  {
   "cell_type": "markdown",
   "id": "a7c17408-1f0a-4efa-9e21-7102d669486b",
   "metadata": {},
   "source": [
    "100 ü yukarda bulmamasının sebebi ben keys aradım k1 keys 100 valuest çünkü şagıda örnekleyecegim\n"
   ]
  },
  {
   "cell_type": "code",
   "execution_count": 63,
   "id": "c20081a3-ce63-420e-841b-79ae296bb07e",
   "metadata": {},
   "outputs": [
    {
     "name": "stdout",
     "output_type": "stream",
     "text": [
      "true\n"
     ]
    }
   ],
   "source": [
    "if 100 in my_dictionary.values():\n",
    "    print(\"true\")\n",
    "else:\n",
    "    print(\"false\")"
   ]
  },
  {
   "cell_type": "markdown",
   "id": "59699ce6-d00d-4dcf-9002-085aec30cb1e",
   "metadata": {},
   "source": [
    "degeri values yapınca durum değişti"
   ]
  },
  {
   "cell_type": "code",
   "execution_count": null,
   "id": "e7b064b4-5f5a-4f89-9052-e145b00a1c28",
   "metadata": {},
   "outputs": [],
   "source": []
  }
 ],
 "metadata": {
  "kernelspec": {
   "display_name": "Python 3 (ipykernel)",
   "language": "python",
   "name": "python3"
  },
  "language_info": {
   "codemirror_mode": {
    "name": "ipython",
    "version": 3
   },
   "file_extension": ".py",
   "mimetype": "text/x-python",
   "name": "python",
   "nbconvert_exporter": "python",
   "pygments_lexer": "ipython3",
   "version": "3.12.4"
  }
 },
 "nbformat": 4,
 "nbformat_minor": 5
}
