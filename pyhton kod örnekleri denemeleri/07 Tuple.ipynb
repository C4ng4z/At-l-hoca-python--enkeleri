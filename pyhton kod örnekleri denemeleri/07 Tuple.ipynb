{
 "cells": [
  {
   "cell_type": "code",
   "execution_count": 7,
   "id": "930644b7-a653-4a1d-8d69-83d5e6e311be",
   "metadata": {},
   "outputs": [],
   "source": [
    "my_list = [\"a\",1,\"c\"]"
   ]
  },
  {
   "cell_type": "code",
   "execution_count": 8,
   "id": "f8da3efb-ad7a-4ba2-816a-fc5fbec0e419",
   "metadata": {},
   "outputs": [],
   "source": [
    "my_list[0] = \"b\""
   ]
  },
  {
   "cell_type": "code",
   "execution_count": 9,
   "id": "c4c7294c-20d7-42da-ba41-cc89b875500d",
   "metadata": {},
   "outputs": [
    {
     "data": {
      "text/plain": [
       "['b', 1, 'c']"
      ]
     },
     "execution_count": 9,
     "metadata": {},
     "output_type": "execute_result"
    }
   ],
   "source": [
    "my_list"
   ]
  },
  {
   "cell_type": "markdown",
   "id": "209b390f-08cd-4bc5-af2d-39ec704aa7af",
   "metadata": {},
   "source": [
    "yukarıda görüldüğü üzere listede degişiklik yapılabiliyor\n",
    "    my_list[0]=b olsun yani listenin 0. yanil ilk elemanı b olsun dedik ve oldu"
   ]
  },
  {
   "cell_type": "code",
   "execution_count": 11,
   "id": "2cb90aca-eb7c-4037-b770-1e0682f316a5",
   "metadata": {},
   "outputs": [],
   "source": [
    "my_tuple = (\"a\",1,\"c\")"
   ]
  },
  {
   "cell_type": "code",
   "execution_count": 12,
   "id": "8cd783ff-39ae-4626-a8b4-79b7118363fd",
   "metadata": {},
   "outputs": [
    {
     "data": {
      "text/plain": [
       "'a'"
      ]
     },
     "execution_count": 12,
     "metadata": {},
     "output_type": "execute_result"
    }
   ],
   "source": [
    "my_tuple[0]"
   ]
  },
  {
   "cell_type": "code",
   "execution_count": 13,
   "id": "4f9f8ea6-6aac-40a1-8115-676642718f88",
   "metadata": {},
   "outputs": [],
   "source": [
    "#my_tuple[0] = \"b\" dedigimizde ilk \"a\" degerini \"b\" olarak değiştirmiyor"
   ]
  },
  {
   "cell_type": "markdown",
   "id": "2b614669-2082-4f11-8de0-d2ebefb47e19",
   "metadata": {},
   "source": [
    "##immutable"
   ]
  },
  {
   "cell_type": "code",
   "execution_count": null,
   "id": "b35796e2-1084-4207-b4c1-b1bac7586ebe",
   "metadata": {},
   "outputs": [],
   "source": [
    "#my_tuple[1] = 2 hata verir"
   ]
  },
  {
   "cell_type": "code",
   "execution_count": 17,
   "id": "f96b3bbd-cd9c-48e8-9d76-a3915c8ca00f",
   "metadata": {},
   "outputs": [
    {
     "data": {
      "text/plain": [
       "1"
      ]
     },
     "execution_count": 17,
     "metadata": {},
     "output_type": "execute_result"
    }
   ],
   "source": [
    "my_tuple.count(\"a\")"
   ]
  },
  {
   "cell_type": "code",
   "execution_count": 18,
   "id": "270bff1a-22d3-415b-a42c-17db77962331",
   "metadata": {},
   "outputs": [],
   "source": [
    "my_tuple_2 = (1,1,1,\"a\",\"c\")"
   ]
  },
  {
   "cell_type": "code",
   "execution_count": 19,
   "id": "1fce01ba-ba42-40b1-bb9f-a8166ecc1c2c",
   "metadata": {},
   "outputs": [
    {
     "data": {
      "text/plain": [
       "3"
      ]
     },
     "execution_count": 19,
     "metadata": {},
     "output_type": "execute_result"
    }
   ],
   "source": [
    "my_tuple_2.count(1)"
   ]
  },
  {
   "cell_type": "markdown",
   "id": "16217dbc-6372-473a-b0f8-f864b5a7cbde",
   "metadata": {},
   "source": [
    "count dersek sayar yukarıda görüldügü gibi 1 leri saydı ve 3 tane oldugunu bize verdi"
   ]
  },
  {
   "cell_type": "code",
   "execution_count": 20,
   "id": "0f2e437b-fdd8-49f2-abcc-a3e34ab3ee2b",
   "metadata": {},
   "outputs": [
    {
     "data": {
      "text/plain": [
       "3"
      ]
     },
     "execution_count": 20,
     "metadata": {},
     "output_type": "execute_result"
    }
   ],
   "source": [
    "my_tuple_2.index(\"a\")"
   ]
  },
  {
   "cell_type": "code",
   "execution_count": 21,
   "id": "1cb6f75e-e712-46ee-86bb-7ebc5ad7c790",
   "metadata": {},
   "outputs": [
    {
     "data": {
      "text/plain": [
       "0"
      ]
     },
     "execution_count": 21,
     "metadata": {},
     "output_type": "execute_result"
    }
   ],
   "source": [
    "my_tuple_2.index(1)"
   ]
  },
  {
   "cell_type": "markdown",
   "id": "ae69c351-9d07-4154-9a8d-aded0e8d0bdf",
   "metadata": {},
   "source": [
    "index belirtilen degerin kaçıncı sırada oldugunu gösterir yukarıda ki örnekteki gibi"
   ]
  },
  {
   "cell_type": "code",
   "execution_count": null,
   "id": "cda85197-2f14-4437-8088-86675d3d269a",
   "metadata": {},
   "outputs": [],
   "source": []
  }
 ],
 "metadata": {
  "kernelspec": {
   "display_name": "Python 3 (ipykernel)",
   "language": "python",
   "name": "python3"
  },
  "language_info": {
   "codemirror_mode": {
    "name": "ipython",
    "version": 3
   },
   "file_extension": ".py",
   "mimetype": "text/x-python",
   "name": "python",
   "nbconvert_exporter": "python",
   "pygments_lexer": "ipython3",
   "version": "3.12.4"
  }
 },
 "nbformat": 4,
 "nbformat_minor": 5
}
