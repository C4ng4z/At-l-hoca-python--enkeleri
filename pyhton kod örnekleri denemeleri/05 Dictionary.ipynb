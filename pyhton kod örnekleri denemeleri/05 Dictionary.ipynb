{
 "cells": [
  {
   "cell_type": "code",
   "execution_count": 1,
   "id": "92bedfa1-f993-4403-9670-087cd26d60b3",
   "metadata": {},
   "outputs": [],
   "source": [
    "my_dictionary = {\"key\": \"value\"}"
   ]
  },
  {
   "cell_type": "markdown",
   "id": "a5afa333-a8f3-4f88-b345-63812697c5f6",
   "metadata": {},
   "source": [
    "sözlük yaparken ir anahtar kelime birde deger kullanıyoruz süslü parantez içinde"
   ]
  },
  {
   "cell_type": "code",
   "execution_count": 2,
   "id": "0b43e985-a186-4e44-bed1-b5ed6b751382",
   "metadata": {},
   "outputs": [
    {
     "data": {
      "text/plain": [
       "'value'"
      ]
     },
     "execution_count": 2,
     "metadata": {},
     "output_type": "execute_result"
    }
   ],
   "source": [
    "my_dictionary [\"key\"]"
   ]
  },
  {
   "cell_type": "code",
   "execution_count": 3,
   "id": "d10bec89-af3b-426b-8951-4c487b397422",
   "metadata": {},
   "outputs": [],
   "source": [
    "my_list = [100,200]"
   ]
  },
  {
   "cell_type": "code",
   "execution_count": 4,
   "id": "0f81a11b-d3a4-49ea-bc46-1cbd178ddb3d",
   "metadata": {},
   "outputs": [],
   "source": [
    "my_list_2 = [\"run\",\"swim\"]"
   ]
  },
  {
   "cell_type": "code",
   "execution_count": 5,
   "id": "a835935f-1b1f-4ed6-b6e6-bb94e6250f6f",
   "metadata": {},
   "outputs": [
    {
     "data": {
      "text/plain": [
       "100"
      ]
     },
     "execution_count": 5,
     "metadata": {},
     "output_type": "execute_result"
    }
   ],
   "source": [
    "my_list[0]"
   ]
  },
  {
   "cell_type": "code",
   "execution_count": 7,
   "id": "04b5c40e-bd91-40b8-80c6-c80417dbef82",
   "metadata": {},
   "outputs": [
    {
     "data": {
      "text/plain": [
       "'run'"
      ]
     },
     "execution_count": 7,
     "metadata": {},
     "output_type": "execute_result"
    }
   ],
   "source": [
    "my_list_2[0]"
   ]
  },
  {
   "cell_type": "code",
   "execution_count": 8,
   "id": "4194c511-1a4a-401b-81cf-f6be65b434d1",
   "metadata": {},
   "outputs": [],
   "source": [
    "my_fitness_dictionary = {\"run\":100,\"swim\":200}"
   ]
  },
  {
   "cell_type": "code",
   "execution_count": 9,
   "id": "bbe2cfe5-909a-4c22-b196-fc8bc533eb22",
   "metadata": {},
   "outputs": [
    {
     "data": {
      "text/plain": [
       "100"
      ]
     },
     "execution_count": 9,
     "metadata": {},
     "output_type": "execute_result"
    }
   ],
   "source": [
    "my_fitness_dictionary[\"run\"]"
   ]
  },
  {
   "cell_type": "code",
   "execution_count": 10,
   "id": "931fdc6b-7df0-4a05-86ae-dccc135c89b2",
   "metadata": {},
   "outputs": [
    {
     "data": {
      "text/plain": [
       "200"
      ]
     },
     "execution_count": 10,
     "metadata": {},
     "output_type": "execute_result"
    }
   ],
   "source": [
    "my_fitness_dictionary[\"swim\"]"
   ]
  },
  {
   "cell_type": "code",
   "execution_count": 11,
   "id": "c5a04ae2-1580-4711-8ea9-6f58d90ab2d4",
   "metadata": {},
   "outputs": [],
   "source": [
    "my_dictionary_2 ={\"key1\":1,\"key2\":2,\"key3\":\"apple\"}"
   ]
  },
  {
   "cell_type": "code",
   "execution_count": 12,
   "id": "395fe1ed-d0f3-4337-939d-88fa1fad3d73",
   "metadata": {},
   "outputs": [
    {
     "data": {
      "text/plain": [
       "1"
      ]
     },
     "execution_count": 12,
     "metadata": {},
     "output_type": "execute_result"
    }
   ],
   "source": [
    "my_dictionary_2[\"key1\"]"
   ]
  },
  {
   "cell_type": "code",
   "execution_count": 13,
   "id": "688e9e66-2ffb-4635-a71f-fc6dbe4d2d91",
   "metadata": {},
   "outputs": [
    {
     "data": {
      "text/plain": [
       "'apple'"
      ]
     },
     "execution_count": 13,
     "metadata": {},
     "output_type": "execute_result"
    }
   ],
   "source": [
    "my_dictionary_2[\"key3\"]"
   ]
  },
  {
   "cell_type": "code",
   "execution_count": 22,
   "id": "9cfd7bca-2c6d-4330-a27e-cde38a1ba579",
   "metadata": {},
   "outputs": [],
   "source": [
    "my_dictionary_3 = {\"key1\":10,20:30,\"key2\":\"pasword1\"}"
   ]
  },
  {
   "cell_type": "markdown",
   "id": "a03069cf-5639-49c7-bb2b-1aca3718144b",
   "metadata": {},
   "source": [
    "yukarıda yapılan ilşem kelime ve deger olabilecegi gibi sayı ve deger de olablir\n",
    ",key1=10 olabiliyor 20=30 da olabiliyor kelime sayı veya sayı sayı  yada kelime kelime de olabiliyor"
   ]
  },
  {
   "cell_type": "code",
   "execution_count": 21,
   "id": "888526dc-78c8-4f92-ae83-a175af2700e7",
   "metadata": {},
   "outputs": [
    {
     "data": {
      "text/plain": [
       "10"
      ]
     },
     "execution_count": 21,
     "metadata": {},
     "output_type": "execute_result"
    }
   ],
   "source": [
    "my_dictionary_3[\"key1\"]"
   ]
  },
  {
   "cell_type": "code",
   "execution_count": 25,
   "id": "d05639b5-ced0-4020-8dbb-5fead79c0c6a",
   "metadata": {},
   "outputs": [
    {
     "data": {
      "text/plain": [
       "30"
      ]
     },
     "execution_count": 25,
     "metadata": {},
     "output_type": "execute_result"
    }
   ],
   "source": [
    "my_dictionary_3[20]"
   ]
  },
  {
   "cell_type": "code",
   "execution_count": 26,
   "id": "1d777d55-d589-420f-a6b5-59b9685a175f",
   "metadata": {},
   "outputs": [
    {
     "data": {
      "text/plain": [
       "'pasword1'"
      ]
     },
     "execution_count": 26,
     "metadata": {},
     "output_type": "execute_result"
    }
   ],
   "source": [
    "my_dictionary_3[\"key2\"]"
   ]
  },
  {
   "cell_type": "code",
   "execution_count": 28,
   "id": "350673c4-60b0-4e04-9f71-d503078c6c71",
   "metadata": {},
   "outputs": [],
   "source": [
    "my_dictionary_4 ={\"key1\" : 100, \"key2\" : [10,20,30],\"key3\" :{\"a\":5}}"
   ]
  },
  {
   "cell_type": "code",
   "execution_count": 29,
   "id": "9f14482d-5e38-4210-b56e-a391eecdc8f8",
   "metadata": {},
   "outputs": [
    {
     "data": {
      "text/plain": [
       "{'key1': 100, 'key2': [10, 20, 30], 'key3': {'a': 5}}"
      ]
     },
     "execution_count": 29,
     "metadata": {},
     "output_type": "execute_result"
    }
   ],
   "source": [
    "my_dictionary_4"
   ]
  },
  {
   "cell_type": "code",
   "execution_count": 31,
   "id": "3b740488-9f25-4384-8707-110435dca6ca",
   "metadata": {},
   "outputs": [
    {
     "data": {
      "text/plain": [
       "dict_keys(['key1', 'key2', 'key3'])"
      ]
     },
     "execution_count": 31,
     "metadata": {},
     "output_type": "execute_result"
    }
   ],
   "source": [
    "my_dictionary_4.keys()"
   ]
  },
  {
   "cell_type": "code",
   "execution_count": 32,
   "id": "59ec8689-a6b5-4e9f-9e0c-8d561fe09d9b",
   "metadata": {},
   "outputs": [
    {
     "data": {
      "text/plain": [
       "dict_values([100, [10, 20, 30], {'a': 5}])"
      ]
     },
     "execution_count": 32,
     "metadata": {},
     "output_type": "execute_result"
    }
   ],
   "source": [
    "my_dictionary_4.values()"
   ]
  },
  {
   "cell_type": "code",
   "execution_count": 36,
   "id": "0b71b895-d8ad-48c7-82dd-641838f95f29",
   "metadata": {},
   "outputs": [
    {
     "data": {
      "text/plain": [
       "{'a': 5}"
      ]
     },
     "execution_count": 36,
     "metadata": {},
     "output_type": "execute_result"
    }
   ],
   "source": [
    "my_dictionary_4[\"key3\"]"
   ]
  },
  {
   "cell_type": "code",
   "execution_count": 37,
   "id": "de8fc95f-281d-403f-a2d2-1cf90f829912",
   "metadata": {},
   "outputs": [
    {
     "data": {
      "text/plain": [
       "5"
      ]
     },
     "execution_count": 37,
     "metadata": {},
     "output_type": "execute_result"
    }
   ],
   "source": [
    "my_dictionary_4[\"key3\"][\"a\"]"
   ]
  },
  {
   "cell_type": "markdown",
   "id": "45228f95-00b8-493a-abce-7f2e24025103",
   "metadata": {},
   "source": [
    "key3 kelimesi sözlük içinde sözlük içeriyor key3 dersek sözlük içerisindeki sözlüğün tamamını getiriyor ama sonuna yine köşeli parntezle sözlük içindeki istedigimiz degeri yazarsak onu getiriyor"
   ]
  },
  {
   "cell_type": "code",
   "execution_count": 38,
   "id": "59bf2f07-a823-45cf-b57a-adddfd07bbb1",
   "metadata": {},
   "outputs": [],
   "source": [
    "my_dictionary_5 = {\"k1\":1,\"k2\":2}"
   ]
  },
  {
   "cell_type": "code",
   "execution_count": null,
   "id": "d0e7dd55-dd9a-4ec0-92e2-3247e3b51252",
   "metadata": {},
   "outputs": [],
   "source": [
    "my_dictionary_5[\"k1\"]=3"
   ]
  },
  {
   "cell_type": "markdown",
   "id": "ea20ecb2-a6d3-4cb7-874e-e1f1d4ce68a6",
   "metadata": {},
   "source": [
    " bu şekilde de sözlük içerigini değiştirebiliyoruz"
   ]
  },
  {
   "cell_type": "code",
   "execution_count": 40,
   "id": "488ee2bb-62e4-4fdb-9956-fc1b34a4119a",
   "metadata": {},
   "outputs": [
    {
     "data": {
      "text/plain": [
       "{'k1': 3, 'k2': 2}"
      ]
     },
     "execution_count": 40,
     "metadata": {},
     "output_type": "execute_result"
    }
   ],
   "source": [
    "my_dictionary_5"
   ]
  },
  {
   "cell_type": "code",
   "execution_count": null,
   "id": "3e119bf2-4217-4af9-9928-fda8e3f1ba56",
   "metadata": {},
   "outputs": [],
   "source": [
    "my_dictionary_5[\"k3\"]=7;"
   ]
  },
  {
   "cell_type": "markdown",
   "id": "0bd51e73-ad6e-4c6b-b8de-64842c2a90c7",
   "metadata": {},
   "source": [
    "bu şekilde sözlük içerigini değiştirdigimiz gibi eklemede yapabiliriz"
   ]
  },
  {
   "cell_type": "code",
   "execution_count": 42,
   "id": "493ef1e7-f659-41f1-a5ed-9b4ef72ffd0e",
   "metadata": {},
   "outputs": [
    {
     "data": {
      "text/plain": [
       "{'k1': 3, 'k2': 2, 'k3': 7}"
      ]
     },
     "execution_count": 42,
     "metadata": {},
     "output_type": "execute_result"
    }
   ],
   "source": [
    "my_dictionary_5"
   ]
  },
  {
   "cell_type": "code",
   "execution_count": null,
   "id": "efdd2734-b617-429b-a32a-5db92c94ae73",
   "metadata": {},
   "outputs": [],
   "source": []
  }
 ],
 "metadata": {
  "kernelspec": {
   "display_name": "Python 3 (ipykernel)",
   "language": "python",
   "name": "python3"
  },
  "language_info": {
   "codemirror_mode": {
    "name": "ipython",
    "version": 3
   },
   "file_extension": ".py",
   "mimetype": "text/x-python",
   "name": "python",
   "nbconvert_exporter": "python",
   "pygments_lexer": "ipython3",
   "version": "3.12.4"
  }
 },
 "nbformat": 4,
 "nbformat_minor": 5
}
