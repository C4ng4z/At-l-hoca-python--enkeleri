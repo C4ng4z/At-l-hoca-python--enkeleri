{
 "cells": [
  {
   "cell_type": "code",
   "execution_count": 1,
   "id": "52993f44-46f6-408e-934e-114dc720f8e2",
   "metadata": {},
   "outputs": [],
   "source": [
    "my_list = [1,2,3,4,5,6,7]"
   ]
  },
  {
   "cell_type": "code",
   "execution_count": 2,
   "id": "c105491f-b9a8-44a9-8c63-117dbfcd14a3",
   "metadata": {},
   "outputs": [
    {
     "name": "stdout",
     "output_type": "stream",
     "text": [
      "1\n",
      "2\n",
      "3\n",
      "4\n",
      "5\n",
      "6\n",
      "7\n"
     ]
    }
   ],
   "source": [
    "for number in my_list:\n",
    "    print(number)"
   ]
  },
  {
   "cell_type": "markdown",
   "id": "0343bfdf-a932-4039-8a3a-566e11951aa0",
   "metadata": {},
   "source": [
    "### range"
   ]
  },
  {
   "cell_type": "code",
   "execution_count": 3,
   "id": "4b85a9fa-001e-4b80-be2b-1e728f687fc9",
   "metadata": {},
   "outputs": [
    {
     "data": {
      "text/plain": [
       "range(0, 20)"
      ]
     },
     "execution_count": 3,
     "metadata": {},
     "output_type": "execute_result"
    }
   ],
   "source": [
    "range(20)"
   ]
  },
  {
   "cell_type": "code",
   "execution_count": 4,
   "id": "a358cf5a-f6d8-4db3-9dcd-21d3860f0919",
   "metadata": {},
   "outputs": [
    {
     "data": {
      "text/plain": [
       "[0, 1, 2, 3, 4, 5, 6, 7, 8, 9, 10, 11, 12, 13, 14, 15, 16, 17, 18, 19]"
      ]
     },
     "execution_count": 4,
     "metadata": {},
     "output_type": "execute_result"
    }
   ],
   "source": [
    "list(range(20))"
   ]
  },
  {
   "cell_type": "markdown",
   "id": "9af2ce8b-05f4-499f-8945-a6bd829fd956",
   "metadata": {},
   "source": [
    "range olarak verdigimiz sayı kaç ise o sayıya kadar alır listeye mesela, range(40) dersek 40 a kadar alır sayıyı listeye, çok fazla sayılar içeren bir liste yapacagız 150 ye kadar olan sayıları içerecek olsun mesela tek tek elle yazamak yerine range(150) dersen 0 dan 150  e kadar olan (150) dahil değil listeye alır"
   ]
  },
  {
   "cell_type": "code",
   "execution_count": 10,
   "id": "2d59bc8f-1edf-4377-a934-91ae884467f8",
   "metadata": {},
   "outputs": [
    {
     "name": "stdout",
     "output_type": "stream",
     "text": [
      "0\n",
      "5\n",
      "10\n",
      "15\n",
      "20\n",
      "25\n",
      "30\n",
      "35\n",
      "40\n",
      "45\n",
      "50\n",
      "55\n",
      "60\n",
      "65\n",
      "70\n",
      "75\n",
      "80\n",
      "85\n",
      "90\n",
      "95\n"
     ]
    }
   ],
   "source": [
    "for number in list(range(20)):\n",
    "    print(number * 5 )"
   ]
  },
  {
   "cell_type": "markdown",
   "id": "6309c736-fcf5-4e09-bf13-953eb39f096c",
   "metadata": {},
   "source": [
    "0 dan belirli bir sayıya kadar değil belirli sayı aralıklarını da kullanabiliriz aşgıdaki gibi"
   ]
  },
  {
   "cell_type": "code",
   "execution_count": 12,
   "id": "2394dc2c-d42d-4859-ac2a-aaf50e2cebfa",
   "metadata": {},
   "outputs": [
    {
     "name": "stdout",
     "output_type": "stream",
     "text": [
      "5\n",
      "6\n",
      "7\n",
      "8\n",
      "9\n",
      "10\n",
      "11\n",
      "12\n",
      "13\n",
      "14\n",
      "15\n",
      "16\n",
      "17\n",
      "18\n",
      "19\n",
      "20\n"
     ]
    }
   ],
   "source": [
    "for num in list(range(5,21)):\n",
    "    print(num)"
   ]
  },
  {
   "cell_type": "markdown",
   "id": "2304d506-20bf-4e35-801f-2813b86906dc",
   "metadata": {},
   "source": [
    "aşagıda da 5 den 21 e kadar yazdır 3 er 3 er atlayarak yazdır dşyebiliyoruz (5,21,3) dedigimizdeki sonda bulunan 3 atlanılarak saylacak rakan oluyor"
   ]
  },
  {
   "cell_type": "code",
   "execution_count": 13,
   "id": "f7eb70e7-f7c9-4e86-87c2-dc090ce21013",
   "metadata": {},
   "outputs": [
    {
     "name": "stdout",
     "output_type": "stream",
     "text": [
      "5\n",
      "8\n",
      "11\n",
      "14\n",
      "17\n",
      "20\n"
     ]
    }
   ],
   "source": [
    "for num in list(range(5,21,3)):\n",
    "    print(num)"
   ]
  },
  {
   "cell_type": "code",
   "execution_count": 14,
   "id": "030f56ea-3f36-40b1-92c6-3dfaf5e24bcb",
   "metadata": {},
   "outputs": [
    {
     "name": "stdout",
     "output_type": "stream",
     "text": [
      "5\n",
      "9\n",
      "13\n",
      "17\n"
     ]
    }
   ],
   "source": [
    "for num in list(range(5,21,4)):\n",
    "    print(num)"
   ]
  },
  {
   "cell_type": "markdown",
   "id": "442717dd-4337-4260-a18f-6be24cdf3260",
   "metadata": {},
   "source": [
    "## enumerate"
   ]
  },
  {
   "cell_type": "markdown",
   "id": "5aca5ef9-53ad-4270-b2cb-be3f1b31d56c",
   "metadata": {},
   "source": [
    "hem numarayı  hemde onunla birlikte kaçıncı indexte oldugunu yazdırmak için kullanırız hem normal yoldan yapmayı hemde kolay yolu aşagıda görebiliriz"
   ]
  },
  {
   "cell_type": "code",
   "execution_count": 17,
   "id": "faa71bf5-4a37-468c-9474-d1205efe1880",
   "metadata": {},
   "outputs": [
    {
     "name": "stdout",
     "output_type": "stream",
     "text": [
      "no: 5 ix: 0\n",
      "no: 6 ix: 1\n",
      "no: 7 ix: 2\n",
      "no: 8 ix: 3\n",
      "no: 9 ix: 4\n",
      "no: 10 ix: 5\n",
      "no: 11 ix: 6\n",
      "no: 12 ix: 7\n",
      "no: 13 ix: 8\n",
      "no: 14 ix: 9\n"
     ]
    }
   ],
   "source": [
    "index = 0\n",
    "for number in list(range(5,15)):\n",
    "    print(f\"no: {number} ix: {index}\")\n",
    "    index += 1"
   ]
  },
  {
   "cell_type": "code",
   "execution_count": 18,
   "id": "559aba88-6ae5-4492-b257-93039665c653",
   "metadata": {},
   "outputs": [
    {
     "name": "stdout",
     "output_type": "stream",
     "text": [
      "(0, 5)\n",
      "(1, 6)\n",
      "(2, 7)\n",
      "(3, 8)\n",
      "(4, 9)\n",
      "(5, 10)\n",
      "(6, 11)\n",
      "(7, 12)\n",
      "(8, 13)\n",
      "(9, 14)\n"
     ]
    }
   ],
   "source": [
    "for element in enumerate(list(range(5,15))):\n",
    "    print(element)"
   ]
  },
  {
   "cell_type": "markdown",
   "id": "4319fea0-bde9-4132-a840-997ccb474ef3",
   "metadata": {},
   "source": [
    "yukarıda ilk index sonra  degeri yanı bizim atadıgımız numarayı verdi"
   ]
  },
  {
   "cell_type": "code",
   "execution_count": 19,
   "id": "734a4ac3-a64c-49fb-97bb-70d8c1242f20",
   "metadata": {},
   "outputs": [
    {
     "name": "stdout",
     "output_type": "stream",
     "text": [
      "5 0\n",
      "6 1\n",
      "7 2\n",
      "8 3\n",
      "9 4\n",
      "10 5\n",
      "11 6\n",
      "12 7\n",
      "13 8\n",
      "14 9\n"
     ]
    }
   ],
   "source": [
    "for (index,number) in enumerate(list(range(5,15))):\n",
    "    print(number,index)"
   ]
  },
  {
   "cell_type": "code",
   "execution_count": 20,
   "id": "5a457821-a7b5-4a35-90ad-970f84dd8610",
   "metadata": {},
   "outputs": [
    {
     "name": "stdout",
     "output_type": "stream",
     "text": [
      "0 5\n",
      "1 6\n",
      "2 7\n",
      "3 8\n",
      "4 9\n",
      "5 10\n",
      "6 11\n",
      "7 12\n",
      "8 13\n",
      "9 14\n"
     ]
    }
   ],
   "source": [
    "for (index,number) in enumerate(list(range(5,15))):\n",
    "    print(index,number)"
   ]
  },
  {
   "cell_type": "code",
   "execution_count": 21,
   "id": "7f711a76-449d-4804-96ef-c5e5220a9dd1",
   "metadata": {},
   "outputs": [
    {
     "name": "stdout",
     "output_type": "stream",
     "text": [
      "0\n",
      "5\n",
      "1\n",
      "6\n",
      "2\n",
      "7\n",
      "3\n",
      "8\n",
      "4\n",
      "9\n",
      "5\n",
      "10\n",
      "6\n",
      "11\n",
      "7\n",
      "12\n",
      "8\n",
      "13\n",
      "9\n",
      "14\n"
     ]
    }
   ],
   "source": [
    "for (index,number) in enumerate(list(range(5,15))):\n",
    "    print(index)\n",
    "    print(number)"
   ]
  },
  {
   "cell_type": "markdown",
   "id": "0c970071-46da-4238-b1aa-d858b45bac1d",
   "metadata": {},
   "source": [
    "yukarıda ilk index sonra numara , ilk numara sonra index , alt alta yazma gibi değişik biçimler yaptık"
   ]
  },
  {
   "cell_type": "markdown",
   "id": "d3a9f946-c703-494c-b384-9466f74febb8",
   "metadata": {},
   "source": [
    "## random"
   ]
  },
  {
   "cell_type": "code",
   "execution_count": 2,
   "id": "0c4b2434-4550-42ec-bb5e-41149cb620f4",
   "metadata": {},
   "outputs": [],
   "source": [
    "from random import randint"
   ]
  },
  {
   "cell_type": "code",
   "execution_count": 5,
   "id": "0c3bf40c-75cf-48fa-a31a-ee9ff15dbe38",
   "metadata": {},
   "outputs": [
    {
     "data": {
      "text/plain": [
       "757"
      ]
     },
     "execution_count": 5,
     "metadata": {},
     "output_type": "execute_result"
    }
   ],
   "source": [
    "randint(0,1000)"
   ]
  },
  {
   "cell_type": "code",
   "execution_count": 6,
   "id": "ee9e58ba-ad2a-4d80-ada7-a16e5619a0f0",
   "metadata": {},
   "outputs": [
    {
     "data": {
      "text/plain": [
       "942"
      ]
     },
     "execution_count": 6,
     "metadata": {},
     "output_type": "execute_result"
    }
   ],
   "source": [
    "randint(0,1000)"
   ]
  },
  {
   "cell_type": "code",
   "execution_count": 8,
   "id": "a2a98542-b6cc-4d38-b281-6a8a13485bd9",
   "metadata": {},
   "outputs": [],
   "source": [
    "my_list_2 = list(range(0,10))"
   ]
  },
  {
   "cell_type": "code",
   "execution_count": 9,
   "id": "695c5bcd-406d-422a-90a1-b9d8f5259479",
   "metadata": {},
   "outputs": [
    {
     "data": {
      "text/plain": [
       "[0, 1, 2, 3, 4, 5, 6, 7, 8, 9]"
      ]
     },
     "execution_count": 9,
     "metadata": {},
     "output_type": "execute_result"
    }
   ],
   "source": [
    "my_list_2"
   ]
  },
  {
   "cell_type": "code",
   "execution_count": 11,
   "id": "495224b9-5d18-452c-95c3-72ce54a40637",
   "metadata": {},
   "outputs": [],
   "source": [
    "from random import shuffle"
   ]
  },
  {
   "cell_type": "code",
   "execution_count": 12,
   "id": "21a086b9-7466-4aaf-a9ad-5efb2f02af55",
   "metadata": {},
   "outputs": [],
   "source": [
    "shuffle(my_list_2)"
   ]
  },
  {
   "cell_type": "code",
   "execution_count": 13,
   "id": "25a33c83-4aae-41e2-b61e-1fafab99ab5c",
   "metadata": {},
   "outputs": [
    {
     "data": {
      "text/plain": [
       "[4, 5, 0, 9, 7, 1, 2, 6, 8, 3]"
      ]
     },
     "execution_count": 13,
     "metadata": {},
     "output_type": "execute_result"
    }
   ],
   "source": [
    "my_list_2"
   ]
  },
  {
   "cell_type": "markdown",
   "id": "d7e0cab0-25b9-4b50-950e-34c9ec33a29c",
   "metadata": {},
   "source": [
    "11 ve 13 deki kodlar listeyi karıştırmak için kullanılır shuffle koduyla karıştırdık"
   ]
  },
  {
   "cell_type": "markdown",
   "id": "f34fcd23-808a-488a-981a-c78ac75183ce",
   "metadata": {},
   "source": [
    "## zip"
   ]
  },
  {
   "cell_type": "code",
   "execution_count": 14,
   "id": "fe94dba9-75f3-4ae7-9e08-5b03e8d965c5",
   "metadata": {},
   "outputs": [],
   "source": [
    "sport_list = [\"run\",\"swim\",\"basketball\"]"
   ]
  },
  {
   "cell_type": "code",
   "execution_count": 15,
   "id": "4ed4863e-5db4-4a41-a319-213c0dfa9674",
   "metadata": {},
   "outputs": [],
   "source": [
    "calories_list = [100,200,300]"
   ]
  },
  {
   "cell_type": "code",
   "execution_count": 16,
   "id": "96a7c098-a8f0-4608-8139-84bfa07dd485",
   "metadata": {},
   "outputs": [],
   "source": [
    "day_list = [\"monday\",\"tuesday\",\"wednesday\"]"
   ]
  },
  {
   "cell_type": "code",
   "execution_count": 17,
   "id": "4707c4ce-b7d5-4747-b93c-4e216f7f393c",
   "metadata": {},
   "outputs": [
    {
     "data": {
      "text/plain": [
       "<zip at 0x27b5f997080>"
      ]
     },
     "execution_count": 17,
     "metadata": {},
     "output_type": "execute_result"
    }
   ],
   "source": [
    "zip(sport_list,calories_list,day_list)"
   ]
  },
  {
   "cell_type": "markdown",
   "id": "88fb434a-77a7-449c-b367-f9eee5f766d1",
   "metadata": {},
   "source": [
    "zip komutu yukarıdaki gibi listeleri birleştirmek için kullanılır  altındaki kod ise kaydettigi yerin ismi\n",
    " ama ben onu yeni listeye eşitleyecegim"
   ]
  },
  {
   "cell_type": "code",
   "execution_count": 22,
   "id": "225ee6bc-b541-4207-bfaf-87a4e89e5cf5",
   "metadata": {},
   "outputs": [],
   "source": [
    "new_list = list(zip(sport_list,calories_list,day_list))"
   ]
  },
  {
   "cell_type": "code",
   "execution_count": 23,
   "id": "07a7794f-d0a1-425a-9a1a-62575a5c5a7b",
   "metadata": {},
   "outputs": [
    {
     "data": {
      "text/plain": [
       "[('run', 100, 'monday'),\n",
       " ('swim', 200, 'tuesday'),\n",
       " ('basketball', 300, 'wednesday')]"
      ]
     },
     "execution_count": 23,
     "metadata": {},
     "output_type": "execute_result"
    }
   ],
   "source": [
    "new_list"
   ]
  },
  {
   "cell_type": "code",
   "execution_count": 25,
   "id": "bfd16e1d-8548-485d-8889-f932029f0c0c",
   "metadata": {},
   "outputs": [
    {
     "name": "stdout",
     "output_type": "stream",
     "text": [
      "('run', 100, 'monday')\n",
      "('swim', 200, 'tuesday')\n",
      "('basketball', 300, 'wednesday')\n"
     ]
    }
   ],
   "source": [
    "for element in new_list:\n",
    "    print(element)"
   ]
  },
  {
   "cell_type": "markdown",
   "id": "bb389830-e1fc-4256-9590-0ff5e8f387e1",
   "metadata": {},
   "source": [
    "## list advanced"
   ]
  },
  {
   "cell_type": "code",
   "execution_count": 4,
   "id": "783e9c23-f784-4448-8481-a8539ebcaaed",
   "metadata": {},
   "outputs": [],
   "source": [
    "new_list = []\n",
    "my_string = \"metallica\"\n",
    "\n",
    "for element in my_string:\n",
    "    new_list.append(element)"
   ]
  },
  {
   "cell_type": "code",
   "execution_count": 5,
   "id": "afc6291d-6a4e-406e-b0c1-8f30a34c6c66",
   "metadata": {},
   "outputs": [
    {
     "data": {
      "text/plain": [
       "['m', 'e', 't', 'a', 'l', 'l', 'i', 'c', 'a']"
      ]
     },
     "execution_count": 5,
     "metadata": {},
     "output_type": "execute_result"
    }
   ],
   "source": [
    "new_list"
   ]
  },
  {
   "cell_type": "code",
   "execution_count": 6,
   "id": "9805607d-73c5-4b0f-89ea-516858806d4a",
   "metadata": {},
   "outputs": [],
   "source": [
    "new_list = [element for element in my_string]"
   ]
  },
  {
   "cell_type": "code",
   "execution_count": 7,
   "id": "714c6ada-0a23-4f39-bef8-b20450029091",
   "metadata": {},
   "outputs": [
    {
     "data": {
      "text/plain": [
       "['m', 'e', 't', 'a', 'l', 'l', 'i', 'c', 'a']"
      ]
     },
     "execution_count": 7,
     "metadata": {},
     "output_type": "execute_result"
    }
   ],
   "source": [
    "new_list"
   ]
  },
  {
   "cell_type": "markdown",
   "id": "11825875-2a63-4f13-8dc8-70d6da0957a3",
   "metadata": {},
   "source": [
    "4. satırda yaptıgım işlemle 6. satırda yaptıgım işlem aynı"
   ]
  },
  {
   "cell_type": "code",
   "execution_count": 11,
   "id": "600d8291-68dc-4d69-98ae-b736be03ecf4",
   "metadata": {},
   "outputs": [],
   "source": [
    "new_list_2 = [number**5 for number in list(range(0,10))]"
   ]
  },
  {
   "cell_type": "code",
   "execution_count": 12,
   "id": "9684d9a7-94eb-4852-a7ef-db2980d609b4",
   "metadata": {},
   "outputs": [
    {
     "data": {
      "text/plain": [
       "[0, 1, 32, 243, 1024, 3125, 7776, 16807, 32768, 59049]"
      ]
     },
     "execution_count": 12,
     "metadata": {},
     "output_type": "execute_result"
    }
   ],
   "source": [
    "new_list_2"
   ]
  },
  {
   "cell_type": "code",
   "execution_count": null,
   "id": "ae243af5-aa36-4f42-9e27-eb1837674bc5",
   "metadata": {},
   "outputs": [],
   "source": []
  }
 ],
 "metadata": {
  "kernelspec": {
   "display_name": "Python 3 (ipykernel)",
   "language": "python",
   "name": "python3"
  },
  "language_info": {
   "codemirror_mode": {
    "name": "ipython",
    "version": 3
   },
   "file_extension": ".py",
   "mimetype": "text/x-python",
   "name": "python",
   "nbconvert_exporter": "python",
   "pygments_lexer": "ipython3",
   "version": "3.12.4"
  }
 },
 "nbformat": 4,
 "nbformat_minor": 5
}
