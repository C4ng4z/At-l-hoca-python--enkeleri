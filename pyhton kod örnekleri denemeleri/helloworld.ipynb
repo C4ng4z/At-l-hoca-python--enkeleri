{
 "cells": [
  {
   "cell_type": "code",
   "execution_count": 1,
   "id": "af1840cd-b45d-45eb-ad64-cf8c9b086e46",
   "metadata": {},
   "outputs": [
    {
     "name": "stdout",
     "output_type": "stream",
     "text": [
      "hello world\n"
     ]
    }
   ],
   "source": [
    "print (\"hello world\")"
   ]
  },
  {
   "cell_type": "code",
   "execution_count": 2,
   "id": "28240319-99ca-430c-8eaf-fed4a3aedae8",
   "metadata": {},
   "outputs": [
    {
     "name": "stdout",
     "output_type": "stream",
     "text": [
      "cem\n"
     ]
    }
   ],
   "source": [
    "print (\"cem\")"
   ]
  },
  {
   "cell_type": "code",
   "execution_count": null,
   "id": "20a0ca82-3aa7-438c-a56a-e197a35c8265",
   "metadata": {},
   "outputs": [],
   "source": []
  }
 ],
 "metadata": {
  "kernelspec": {
   "display_name": "Python 3 (ipykernel)",
   "language": "python",
   "name": "python3"
  },
  "language_info": {
   "codemirror_mode": {
    "name": "ipython",
    "version": 3
   },
   "file_extension": ".py",
   "mimetype": "text/x-python",
   "name": "python",
   "nbconvert_exporter": "python",
   "pygments_lexer": "ipython3",
   "version": "3.12.4"
  }
 },
 "nbformat": 4,
 "nbformat_minor": 5
}
