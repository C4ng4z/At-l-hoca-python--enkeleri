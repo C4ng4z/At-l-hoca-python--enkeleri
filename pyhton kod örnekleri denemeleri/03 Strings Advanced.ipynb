{
 "cells": [
  {
   "cell_type": "markdown",
   "id": "9b6f5bf9-2df6-4a28-8b18-1817f25d09ef",
   "metadata": {},
   "source": [
    "my_string = \"hello world\""
   ]
  },
  {
   "cell_type": "code",
   "execution_count": 2,
   "id": "a625aecb-10a0-4e2c-a2ef-57f02b679af8",
   "metadata": {},
   "outputs": [
    {
     "data": {
      "text/plain": [
       "'hello world'"
      ]
     },
     "execution_count": 2,
     "metadata": {},
     "output_type": "execute_result"
    }
   ],
   "source": [
    "my_string"
   ]
  },
  {
   "cell_type": "markdown",
   "id": "c3b3c747-17e0-4142-a209-fb2e2108611e",
   "metadata": {},
   "source": [
    "(##) =markdown da demek başlık atacagım demek oluyor \"parantez yok başlık olarak almasın diye paranteze aldım\""
   ]
  },
  {
   "cell_type": "markdown",
   "id": "4af437cf-3068-45ac-89eb-cd9da4d01085",
   "metadata": {},
   "source": [
    "##indexing"
   ]
  },
  {
   "cell_type": "code",
   "execution_count": 4,
   "id": "c074a2a4-baa9-4065-beb5-2914a635a8bd",
   "metadata": {},
   "outputs": [
    {
     "data": {
      "text/plain": [
       "'h'"
      ]
     },
     "execution_count": 4,
     "metadata": {},
     "output_type": "execute_result"
    }
   ],
   "source": [
    "my_string[0]"
   ]
  },
  {
   "cell_type": "markdown",
   "id": "5716436b-e36d-4758-bb39-dcb4f0695a4e",
   "metadata": {},
   "source": [
    "my stringin karali parantezle içine yazılan sayı stringimin ilk harfini göster demek genelde 0 ilk olarak kabul edilir"
   ]
  },
  {
   "cell_type": "code",
   "execution_count": 5,
   "id": "61d52eb5-0201-42ab-b054-935c7e0681e1",
   "metadata": {},
   "outputs": [
    {
     "data": {
      "text/plain": [
       "'o'"
      ]
     },
     "execution_count": 5,
     "metadata": {},
     "output_type": "execute_result"
    }
   ],
   "source": [
    "my_string[4]"
   ]
  },
  {
   "cell_type": "markdown",
   "id": "21c414f7-986d-430b-b8b6-d530a7b59e68",
   "metadata": {},
   "source": [
    "-1 demek de sondaki elemanı göster demek"
   ]
  },
  {
   "cell_type": "code",
   "execution_count": 6,
   "id": "3528c7f5-ae23-4949-bb3c-3593d3d86267",
   "metadata": {},
   "outputs": [
    {
     "data": {
      "text/plain": [
       "'d'"
      ]
     },
     "execution_count": 6,
     "metadata": {},
     "output_type": "execute_result"
    }
   ],
   "source": [
    "my_string[-1]"
   ]
  },
  {
   "cell_type": "code",
   "execution_count": 8,
   "id": "80f31a3e-db34-4acc-a0e3-0d0a93335a65",
   "metadata": {},
   "outputs": [
    {
     "data": {
      "text/plain": [
       "'l'"
      ]
     },
     "execution_count": 8,
     "metadata": {},
     "output_type": "execute_result"
    }
   ],
   "source": [
    "my_string[-2]"
   ]
  },
  {
   "cell_type": "code",
   "execution_count": 9,
   "id": "a2559e9c-d4e0-4803-b23d-35016dba4093",
   "metadata": {},
   "outputs": [],
   "source": [
    "my_string_2 =\"1234567890\""
   ]
  },
  {
   "cell_type": "code",
   "execution_count": 10,
   "id": "c60beab3-bdc8-4017-9ce4-ad878013dc84",
   "metadata": {},
   "outputs": [
    {
     "data": {
      "text/plain": [
       "'1'"
      ]
     },
     "execution_count": 10,
     "metadata": {},
     "output_type": "execute_result"
    }
   ],
   "source": [
    "my_string_2[0]"
   ]
  },
  {
   "cell_type": "markdown",
   "id": "ef6e2639-a251-49c2-8173-1043dd207004",
   "metadata": {},
   "source": [
    "(2:) demek 2, indeksten başlat ve bana gersimni göster demek"
   ]
  },
  {
   "cell_type": "code",
   "execution_count": 11,
   "id": "0d8afc3b-6c6e-4794-87c1-5e38e4ec5864",
   "metadata": {},
   "outputs": [
    {
     "data": {
      "text/plain": [
       "'34567890'"
      ]
     },
     "execution_count": 11,
     "metadata": {},
     "output_type": "execute_result"
    }
   ],
   "source": [
    "my_string_2[2:]"
   ]
  },
  {
   "cell_type": "markdown",
   "id": "e4185a34-ab21-449a-8de7-ef2ab97a0be6",
   "metadata": {},
   "source": [
    "##slicing (kesme işlemi)"
   ]
  },
  {
   "cell_type": "code",
   "execution_count": 12,
   "id": "930b283a-b66c-4243-9871-4fa97e2eddd8",
   "metadata": {},
   "outputs": [
    {
     "data": {
      "text/plain": [
       "'567890'"
      ]
     },
     "execution_count": 12,
     "metadata": {},
     "output_type": "execute_result"
    }
   ],
   "source": [
    "my_string_2[4:]"
   ]
  },
  {
   "cell_type": "markdown",
   "id": "b94faadb-27a5-4d2d-b7d2-6558ea2c5352",
   "metadata": {},
   "source": [
    "(:2) demek de 2 harfin öncesini göster demek"
   ]
  },
  {
   "cell_type": "code",
   "execution_count": 13,
   "id": "b538df36-e855-4a75-90bf-16550fc25c51",
   "metadata": {},
   "outputs": [
    {
     "data": {
      "text/plain": [
       "'12'"
      ]
     },
     "execution_count": 13,
     "metadata": {},
     "output_type": "execute_result"
    }
   ],
   "source": [
    "my_string_2[:2]"
   ]
  },
  {
   "cell_type": "code",
   "execution_count": 15,
   "id": "78337ca2-4d52-4d87-8102-6370b96809f9",
   "metadata": {},
   "outputs": [
    {
     "data": {
      "text/plain": [
       "'123'"
      ]
     },
     "execution_count": 15,
     "metadata": {},
     "output_type": "execute_result"
    }
   ],
   "source": [
    "my_string_2[:3]"
   ]
  },
  {
   "cell_type": "markdown",
   "id": "b86adca0-568d-4121-acbc-191a305131a9",
   "metadata": {},
   "source": [
    "yani : nın hangi tarafına yazdıgımız sayı o stringin yani metinverilernin o kadar karakter öncesini veya sonrasını gösteirir [4:] yazıdıgımda ilk 4 karakterden sonrasını gösterir [:4] yazdıgımda ise ilk 4 karakteri gösterir"
   ]
  },
  {
   "cell_type": "markdown",
   "id": "d9ef8874-14a7-4dfe-8372-e78d60ab693d",
   "metadata": {},
   "source": [
    "##stoping index"
   ]
  },
  {
   "cell_type": "code",
   "execution_count": 17,
   "id": "a5af1adc-b432-491c-aff6-ca7e05ebeb88",
   "metadata": {},
   "outputs": [
    {
     "data": {
      "text/plain": [
       "'123'"
      ]
     },
     "execution_count": 17,
     "metadata": {},
     "output_type": "execute_result"
    }
   ],
   "source": [
    "my_string_2[:3]"
   ]
  },
  {
   "cell_type": "markdown",
   "id": "4da72fd2-3eec-4e18-bbae-587e65b791c9",
   "metadata": {},
   "source": [
    "my_string_2[2:4]"
   ]
  },
  {
   "cell_type": "markdown",
   "id": "aea3b073-4d0e-4a2e-9f47-b748d7146f06",
   "metadata": {},
   "source": [
    "[2:4] demekte o aralıktaki karakterleri öster demek"
   ]
  },
  {
   "cell_type": "code",
   "execution_count": 19,
   "id": "ac33d57a-67c9-477a-a3b8-d12a2171232e",
   "metadata": {},
   "outputs": [
    {
     "data": {
      "text/plain": [
       "'3456'"
      ]
     },
     "execution_count": 19,
     "metadata": {},
     "output_type": "execute_result"
    }
   ],
   "source": [
    "my_string_2[2:6]"
   ]
  },
  {
   "cell_type": "markdown",
   "id": "213e7d8d-1ade-4924-8b5a-8a0966388816",
   "metadata": {},
   "source": [
    "##step size"
   ]
  },
  {
   "cell_type": "code",
   "execution_count": 20,
   "id": "65f80dd8-a757-4ec1-bcae-7f74b438e755",
   "metadata": {},
   "outputs": [
    {
     "data": {
      "text/plain": [
       "'1234567890'"
      ]
     },
     "execution_count": 20,
     "metadata": {},
     "output_type": "execute_result"
    }
   ],
   "source": [
    "my_string_2[::]"
   ]
  },
  {
   "cell_type": "code",
   "execution_count": 21,
   "id": "275bd452-fd2a-41b2-88d5-4827619d7637",
   "metadata": {},
   "outputs": [
    {
     "data": {
      "text/plain": [
       "'1470'"
      ]
     },
     "execution_count": 21,
     "metadata": {},
     "output_type": "execute_result"
    }
   ],
   "source": [
    "my_string_2[::3]"
   ]
  },
  {
   "cell_type": "markdown",
   "id": "db88e3ef-2b65-428f-b4a0-9e2c63949738",
   "metadata": {},
   "source": [
    "[::] dersek stringin tamamını görürüz [::3] dersek 3 er 3 er atla say demek orya 4 yazarsak 4  talar ve bize gösterir"
   ]
  },
  {
   "cell_type": "code",
   "execution_count": 23,
   "id": "8eeb1dfe-ac02-4dbc-9dbb-a31467d2e679",
   "metadata": {},
   "outputs": [
    {
     "data": {
      "text/plain": [
       "'13579'"
      ]
     },
     "execution_count": 23,
     "metadata": {},
     "output_type": "execute_result"
    }
   ],
   "source": [
    "my_string_2[::2]"
   ]
  },
  {
   "cell_type": "code",
   "execution_count": 25,
   "id": "32b16c80-85d1-4620-922c-8917629c323f",
   "metadata": {},
   "outputs": [
    {
     "data": {
      "text/plain": [
       "'3'"
      ]
     },
     "execution_count": 25,
     "metadata": {},
     "output_type": "execute_result"
    }
   ],
   "source": [
    "my_string_2[2:4:2]"
   ]
  },
  {
   "cell_type": "markdown",
   "id": "86443ebd-3ca8-4fe7-b6d1-de39038e932e",
   "metadata": {},
   "source": [
    "[::-1] demek tersten demek stringi tersine çevirir "
   ]
  },
  {
   "cell_type": "code",
   "execution_count": 27,
   "id": "503cecbd-34a9-4536-b8b9-a730466b9687",
   "metadata": {},
   "outputs": [
    {
     "data": {
      "text/plain": [
       "'0987654321'"
      ]
     },
     "execution_count": 27,
     "metadata": {},
     "output_type": "execute_result"
    }
   ],
   "source": [
    "my_string_2[::-1]"
   ]
  },
  {
   "cell_type": "markdown",
   "id": "ead1717a-bc93-4d93-8855-95fb18c5900a",
   "metadata": {},
   "source": [
    "## string methots"
   ]
  },
  {
   "cell_type": "code",
   "execution_count": 1,
   "id": "385ad943-4c07-4247-8411-6aa2d327200d",
   "metadata": {},
   "outputs": [],
   "source": [
    "my_name = \"cem\""
   ]
  },
  {
   "cell_type": "code",
   "execution_count": 3,
   "id": "74520af8-6b45-4c16-a0d8-747dcb71a3e3",
   "metadata": {},
   "outputs": [
    {
     "data": {
      "text/plain": [
       "'Cem'"
      ]
     },
     "execution_count": 3,
     "metadata": {},
     "output_type": "execute_result"
    }
   ],
   "source": [
    "my_name.capitalize()"
   ]
  },
  {
   "cell_type": "code",
   "execution_count": null,
   "id": "b5bf240d-cdb4-4c92-b15e-1ca0965c0e2b",
   "metadata": {},
   "outputs": [],
   "source": [
    "my_name_capitalize = my_name.capitalize()"
   ]
  },
  {
   "cell_type": "code",
   "execution_count": 5,
   "id": "f2e52bde-465e-463a-aa97-628f8a62c70e",
   "metadata": {},
   "outputs": [
    {
     "data": {
      "text/plain": [
       "'Cem'"
      ]
     },
     "execution_count": 5,
     "metadata": {},
     "output_type": "execute_result"
    }
   ],
   "source": [
    "my_name_capitalize"
   ]
  },
  {
   "cell_type": "code",
   "execution_count": 7,
   "id": "19046ee1-47fc-4638-a5ba-122142c0b26b",
   "metadata": {},
   "outputs": [],
   "source": [
    "my_name = \"Cem Erdoğan\""
   ]
  },
  {
   "cell_type": "code",
   "execution_count": 9,
   "id": "6a96bb79-a4dc-4036-8efd-2c6c913bbb8a",
   "metadata": {},
   "outputs": [],
   "source": [
    "my_name_split = my_name.split()"
   ]
  },
  {
   "cell_type": "code",
   "execution_count": 11,
   "id": "925f010a-afdc-4ee0-838d-fcdd1363e812",
   "metadata": {},
   "outputs": [
    {
     "data": {
      "text/plain": [
       "['Cem', 'Erdoğan']"
      ]
     },
     "execution_count": 11,
     "metadata": {},
     "output_type": "execute_result"
    }
   ],
   "source": [
    "my_name_split"
   ]
  },
  {
   "cell_type": "code",
   "execution_count": 12,
   "id": "cc705195-9de0-4a66-a4ed-ac3aed0b3fb6",
   "metadata": {},
   "outputs": [
    {
     "data": {
      "text/plain": [
       "'Cem'"
      ]
     },
     "execution_count": 12,
     "metadata": {},
     "output_type": "execute_result"
    }
   ],
   "source": [
    "my_name_split [0]"
   ]
  },
  {
   "cell_type": "code",
   "execution_count": 13,
   "id": "6f44c9df-ec74-4538-8cfd-0c31ea42c17d",
   "metadata": {},
   "outputs": [
    {
     "data": {
      "text/plain": [
       "'Erdoğan'"
      ]
     },
     "execution_count": 13,
     "metadata": {},
     "output_type": "execute_result"
    }
   ],
   "source": [
    "my_name_split [1]"
   ]
  },
  {
   "cell_type": "code",
   "execution_count": 14,
   "id": "918b785b-9082-4088-8902-69c7be816f49",
   "metadata": {},
   "outputs": [],
   "source": [
    " my_number = 123"
   ]
  },
  {
   "cell_type": "code",
   "execution_count": 16,
   "id": "0ce43474-0d01-4f60-ac6b-c8e789675297",
   "metadata": {},
   "outputs": [
    {
     "data": {
      "text/plain": [
       "'CEM ERDOĞAN'"
      ]
     },
     "execution_count": 16,
     "metadata": {},
     "output_type": "execute_result"
    }
   ],
   "source": [
    "my_name.upper()"
   ]
  },
  {
   "cell_type": "code",
   "execution_count": 18,
   "id": "4868a93c-cabe-4a73-b281-ae318a586b3d",
   "metadata": {},
   "outputs": [
    {
     "data": {
      "text/plain": [
       "'jamesjamesjamesjamesjamesjamesjamesjamesjamesjames'"
      ]
     },
     "execution_count": 18,
     "metadata": {},
     "output_type": "execute_result"
    }
   ],
   "source": [
    "\"james\" * 10 "
   ]
  },
  {
   "cell_type": "code",
   "execution_count": 19,
   "id": "fb677acb-e8b0-453e-91ae-322f018c79af",
   "metadata": {},
   "outputs": [
    {
     "data": {
      "text/plain": [
       "'jameslars'"
      ]
     },
     "execution_count": 19,
     "metadata": {},
     "output_type": "execute_result"
    }
   ],
   "source": [
    "\"james\" + \"lars\""
   ]
  },
  {
   "cell_type": "code",
   "execution_count": 21,
   "id": "c31a15a5-2fef-4ba6-9174-4a7e913a0155",
   "metadata": {},
   "outputs": [],
   "source": [
    "my_name = \"cem\""
   ]
  },
  {
   "cell_type": "code",
   "execution_count": 22,
   "id": "1812a105-b156-427a-971d-ed55c409d488",
   "metadata": {},
   "outputs": [],
   "source": [
    "my_surname = \"erdoğan\""
   ]
  },
  {
   "cell_type": "code",
   "execution_count": 25,
   "id": "45e33c5e-ed36-4824-8233-1fb15e9d5055",
   "metadata": {},
   "outputs": [],
   "source": [
    "my_full_name = my_name + \" \"+ my_surname"
   ]
  },
  {
   "cell_type": "code",
   "execution_count": 26,
   "id": "5c3e00fd-514b-4c13-9c98-2c5e266c329e",
   "metadata": {},
   "outputs": [
    {
     "data": {
      "text/plain": [
       "'cem erdoğan'"
      ]
     },
     "execution_count": 26,
     "metadata": {},
     "output_type": "execute_result"
    }
   ],
   "source": [
    "my_full_name"
   ]
  },
  {
   "cell_type": "code",
   "execution_count": 30,
   "id": "690763be-0d62-4675-a048-38cd6fd466b4",
   "metadata": {},
   "outputs": [
    {
     "data": {
      "text/plain": [
       "'Cem erdoğan'"
      ]
     },
     "execution_count": 30,
     "metadata": {},
     "output_type": "execute_result"
    }
   ],
   "source": [
    "my_full_name.capitalize()"
   ]
  },
  {
   "cell_type": "code",
   "execution_count": null,
   "id": "2adce5a7-8f1a-484c-8068-fc9beda77d45",
   "metadata": {},
   "outputs": [],
   "source": []
  }
 ],
 "metadata": {
  "kernelspec": {
   "display_name": "Python 3 (ipykernel)",
   "language": "python",
   "name": "python3"
  },
  "language_info": {
   "codemirror_mode": {
    "name": "ipython",
    "version": 3
   },
   "file_extension": ".py",
   "mimetype": "text/x-python",
   "name": "python",
   "nbconvert_exporter": "python",
   "pygments_lexer": "ipython3",
   "version": "3.12.4"
  }
 },
 "nbformat": 4,
 "nbformat_minor": 5
}
