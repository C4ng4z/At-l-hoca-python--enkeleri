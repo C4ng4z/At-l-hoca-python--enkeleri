{
 "cells": [
  {
   "cell_type": "code",
   "execution_count": 1,
   "id": "d3ba8a94-3f97-44c6-a94f-87b3c3ecacee",
   "metadata": {},
   "outputs": [],
   "source": [
    "a = 0"
   ]
  },
  {
   "cell_type": "code",
   "execution_count": 2,
   "id": "76865d25-bf8f-4612-8aa7-b3a4163c61fa",
   "metadata": {},
   "outputs": [
    {
     "name": "stdout",
     "output_type": "stream",
     "text": [
      "hello\n",
      "hello\n",
      "hello\n",
      "hello\n",
      "hello\n"
     ]
    }
   ],
   "source": [
    "while a < 5:\n",
    "    print(\"hello\")\n",
    "    a = a +1"
   ]
  },
  {
   "cell_type": "code",
   "execution_count": 8,
   "id": "287b1362-c1ef-4339-a3c1-c404342f6b09",
   "metadata": {},
   "outputs": [],
   "source": [
    "my_list = [1,2,3,4,5]"
   ]
  },
  {
   "cell_type": "code",
   "execution_count": 9,
   "id": "72c598d6-5cf7-43c1-9582-3aeab12dede8",
   "metadata": {},
   "outputs": [
    {
     "data": {
      "text/plain": [
       "5"
      ]
     },
     "execution_count": 9,
     "metadata": {},
     "output_type": "execute_result"
    }
   ],
   "source": [
    "my_list.pop()"
   ]
  },
  {
   "cell_type": "code",
   "execution_count": 10,
   "id": "4c4e658f-f26d-4341-9aff-713b290d93e0",
   "metadata": {},
   "outputs": [
    {
     "data": {
      "text/plain": [
       "[1, 2, 3, 4]"
      ]
     },
     "execution_count": 10,
     "metadata": {},
     "output_type": "execute_result"
    }
   ],
   "source": [
    "my_list"
   ]
  },
  {
   "cell_type": "code",
   "execution_count": 11,
   "id": "e12329fa-9bfe-431d-b656-e8433f6310cb",
   "metadata": {},
   "outputs": [],
   "source": [
    "my_list.append(5)"
   ]
  },
  {
   "cell_type": "code",
   "execution_count": 12,
   "id": "7140a3a8-184a-41b5-9076-24acf7a29483",
   "metadata": {},
   "outputs": [
    {
     "data": {
      "text/plain": [
       "[1, 2, 3, 4, 5]"
      ]
     },
     "execution_count": 12,
     "metadata": {},
     "output_type": "execute_result"
    }
   ],
   "source": [
    "my_list"
   ]
  },
  {
   "cell_type": "code",
   "execution_count": 14,
   "id": "1fc23d37-6de9-45b0-b9d3-f4fb6ca18073",
   "metadata": {},
   "outputs": [
    {
     "name": "stdout",
     "output_type": "stream",
     "text": [
      "3 in my list\n",
      "3 in my list\n",
      "3 in my list\n"
     ]
    }
   ],
   "source": [
    "while 3 in my_list:\n",
    "    print(\"3 in my list\")\n",
    "    my_list.pop()"
   ]
  },
  {
   "cell_type": "code",
   "execution_count": 25,
   "id": "fce151d9-fa09-492d-b763-00ec8442d924",
   "metadata": {},
   "outputs": [],
   "source": [
    "number = 0 "
   ]
  },
  {
   "cell_type": "code",
   "execution_count": 33,
   "id": "83dce6c3-a715-4a96-9d3b-1e3574886147",
   "metadata": {},
   "outputs": [],
   "source": [
    "while number < 10:\n",
    "    print(number)\n",
    "    number += 1"
   ]
  },
  {
   "cell_type": "code",
   "execution_count": 32,
   "id": "a6c1e146-664c-4864-a9b9-b6b2ed853af6",
   "metadata": {},
   "outputs": [],
   "source": []
  },
  {
   "cell_type": "code",
   "execution_count": null,
   "id": "a8fdd933-2b3a-4535-a755-c05a229adb95",
   "metadata": {},
   "outputs": [],
   "source": []
  },
  {
   "cell_type": "code",
   "execution_count": null,
   "id": "3f82ad23-a227-4d09-85b4-66a65d0ac1f6",
   "metadata": {},
   "outputs": [],
   "source": []
  }
 ],
 "metadata": {
  "kernelspec": {
   "display_name": "Python 3 (ipykernel)",
   "language": "python",
   "name": "python3"
  },
  "language_info": {
   "codemirror_mode": {
    "name": "ipython",
    "version": 3
   },
   "file_extension": ".py",
   "mimetype": "text/x-python",
   "name": "python",
   "nbconvert_exporter": "python",
   "pygments_lexer": "ipython3",
   "version": "3.12.4"
  }
 },
 "nbformat": 4,
 "nbformat_minor": 5
}
