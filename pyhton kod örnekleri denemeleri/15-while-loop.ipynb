{
 "cells": [
  {
   "cell_type": "code",
   "execution_count": 33,
   "id": "010360b4-5638-4665-878a-77c6e23a3596",
   "metadata": {},
   "outputs": [],
   "source": [
    "a = 0"
   ]
  },
  {
   "cell_type": "code",
   "execution_count": 34,
   "id": "bebbd561-fc7b-4914-8797-1c0087e8290d",
   "metadata": {},
   "outputs": [
    {
     "name": "stdout",
     "output_type": "stream",
     "text": [
      "hello\n",
      "hello\n",
      "hello\n",
      "hello\n",
      "hello\n"
     ]
    }
   ],
   "source": [
    "while a < 5:\n",
    "    print(\"hello\")\n",
    "    a = a +1"
   ]
  },
  {
   "cell_type": "code",
   "execution_count": 35,
   "id": "44c58e57-17fc-4db3-beee-01c782815c91",
   "metadata": {},
   "outputs": [],
   "source": [
    "my_list = [1,2,3,4,5]"
   ]
  },
  {
   "cell_type": "code",
   "execution_count": 36,
   "id": "7bc10814-68b1-439d-8716-cfa81ac46821",
   "metadata": {},
   "outputs": [
    {
     "data": {
      "text/plain": [
       "5"
      ]
     },
     "execution_count": 36,
     "metadata": {},
     "output_type": "execute_result"
    }
   ],
   "source": [
    "my_list.pop()"
   ]
  },
  {
   "cell_type": "code",
   "execution_count": 37,
   "id": "cc2ec631-74d5-493a-87f0-7fd2db14ab39",
   "metadata": {},
   "outputs": [
    {
     "data": {
      "text/plain": [
       "[1, 2, 3, 4]"
      ]
     },
     "execution_count": 37,
     "metadata": {},
     "output_type": "execute_result"
    }
   ],
   "source": [
    "my_list"
   ]
  },
  {
   "cell_type": "code",
   "execution_count": 38,
   "id": "2b483808-caa3-4b0d-b763-889b9665ca3f",
   "metadata": {},
   "outputs": [],
   "source": [
    "my_list.append(5)"
   ]
  },
  {
   "cell_type": "code",
   "execution_count": 39,
   "id": "5ec2fb61-7a4a-45da-b3b4-4d8b5ee0251e",
   "metadata": {},
   "outputs": [
    {
     "data": {
      "text/plain": [
       "[1, 2, 3, 4, 5]"
      ]
     },
     "execution_count": 39,
     "metadata": {},
     "output_type": "execute_result"
    }
   ],
   "source": [
    "my_list"
   ]
  },
  {
   "cell_type": "code",
   "execution_count": 40,
   "id": "466735fd-8ba1-4c72-9b39-8f2b5328f288",
   "metadata": {},
   "outputs": [
    {
     "name": "stdout",
     "output_type": "stream",
     "text": [
      "3 in my list\n",
      "3 in my list\n",
      "3 in my list\n"
     ]
    }
   ],
   "source": [
    "while 3 in my_list:\n",
    "    print(\"3 in my list\")\n",
    "    my_list.pop()"
   ]
  },
  {
   "cell_type": "code",
   "execution_count": 41,
   "id": "85d034f6-6a03-4bca-8675-2e2ac5abee5b",
   "metadata": {},
   "outputs": [],
   "source": [
    "number = 0 "
   ]
  },
  {
   "cell_type": "code",
   "execution_count": 42,
   "id": "eed5d6ea-cfa4-4fd6-8ef7-dee92cc24371",
   "metadata": {},
   "outputs": [
    {
     "name": "stdout",
     "output_type": "stream",
     "text": [
      "0\n",
      "1\n",
      "2\n",
      "3\n",
      "4\n",
      "5\n",
      "6\n",
      "7\n",
      "8\n",
      "9\n"
     ]
    }
   ],
   "source": [
    "while number < 10:\n",
    "    print(number)\n",
    "    number += 1"
   ]
  },
  {
   "cell_type": "code",
   "execution_count": 43,
   "id": "61a849d1-1f37-408a-a8ad-a5a1852e219c",
   "metadata": {},
   "outputs": [],
   "source": [
    "while number < 5:\n",
    "    #if number == 5:\n",
    "        #break\n",
    "    print(number)\n",
    "    number += 1"
   ]
  },
  {
   "cell_type": "code",
   "execution_count": 44,
   "id": "644ac25d-308f-467f-868d-43fb81f6eb03",
   "metadata": {},
   "outputs": [],
   "source": [
    "p = 0 "
   ]
  },
  {
   "cell_type": "code",
   "execution_count": 45,
   "id": "2b3b61a7-c5e2-44f6-9299-c6d4802d2268",
   "metadata": {},
   "outputs": [
    {
     "name": "stdout",
     "output_type": "stream",
     "text": [
      "0\n",
      "1\n",
      "2\n",
      "3\n",
      "4\n",
      "5\n",
      "6\n",
      "7\n",
      "8\n",
      "9\n",
      "10\n",
      "11\n",
      "12\n",
      "13\n",
      "14\n",
      "15\n",
      "16\n",
      "17\n",
      "18\n",
      "19\n"
     ]
    }
   ],
   "source": [
    "while p < 20:\n",
    "    print(p)\n",
    "    p += 1"
   ]
  },
  {
   "cell_type": "code",
   "execution_count": 51,
   "id": "b0f2bd0d-cb35-43e2-a65d-64793cc03ffe",
   "metadata": {},
   "outputs": [],
   "source": [
    "while p < 20:\n",
    "    print(\"value p: \" + stp(p))\n",
    "    p += 1"
   ]
  },
  {
   "cell_type": "code",
   "execution_count": 50,
   "id": "8b03525d-732e-4c5d-93f8-b8b8b2e154f1",
   "metadata": {},
   "outputs": [],
   "source": [
    "while p < 20:\n",
    "    print(f\"value p:{p}\")\n",
    "    p += 1"
   ]
  },
  {
   "cell_type": "code",
   "execution_count": null,
   "id": "bc1ff2cc-a587-4e91-9e18-869cd86d891f",
   "metadata": {},
   "outputs": [],
   "source": []
  }
 ],
 "metadata": {
  "kernelspec": {
   "display_name": "Python 3 (ipykernel)",
   "language": "python",
   "name": "python3"
  },
  "language_info": {
   "codemirror_mode": {
    "name": "ipython",
    "version": 3
   },
   "file_extension": ".py",
   "mimetype": "text/x-python",
   "name": "python",
   "nbconvert_exporter": "python",
   "pygments_lexer": "ipython3",
   "version": "3.12.4"
  }
 },
 "nbformat": 4,
 "nbformat_minor": 5
}
